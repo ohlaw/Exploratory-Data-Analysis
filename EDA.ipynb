{
 "cells": [
  {
   "cell_type": "markdown",
   "metadata": {},
   "source": [
    "# Research on car sales ads\n",
    "\n",
    "You're an analyst at Crankshaft List. Hundreds of free advertisements for vehicles are published on your site every day.\n",
    "\n",
    "You need to study data collected over the last few years and determine which factors influence the price of a vehicle. \n",
    "\n",
    "\n",
    "### Table of Contents\n",
    "\n",
    "\n",
    "<a href=\"#Step-1.-Open-the-data-file-and-study-the-general-information.\">Step 1. Open the data file and study the general information.</a>\n",
    "\n",
    "<a href=\"#Step-2.-Data-preprocessing\">Step 2. Data preprocessing</a>\n",
    "* <a href=\"#Identify-and-study-missing-values\">Identify and study missing values</a>\n",
    "* <a href=\"#Convert-the-data-to-the-required-types\">Convert the data to the required types</a>\n",
    "* <a href=\"#Processing-duplicates\">Processing duplicates</a>\n",
    "          \n",
    "<a href=\"#Step-3.-Make-calculations-and-add-them-to-the-table\">Step 3. Make calculations and add them to the table</a>\n",
    "* <a href=\"#Day-of-week,-month-and-year\">Day of week, month and year</a>\n",
    "* <a href=\"#Vehicles'-age-(in-years)\">Vehicles' age (in years)</a>\n",
    "* <a href=\"#Average-mileage-per-year\">Average mileage per year</a>\n",
    "          \n",
    "<a href=\"#Step-4.-Carry-out-exploratory-data-analysis\">Step 4. Carry out exploratory data analysis</a>\n",
    "* <a href=\"#Study-parameters\">Study parameters</a>\n",
    "* <a href=\"#Determine-upper-limits-of-outliers\">Determine upper limits of outliers</a>\n",
    "* <a href=\"#Filter-and-remove-outliers\">Filter and remove outliers</a>\n",
    "* <a href=\"#Compare-histograms\">Compare histograms</a>\n",
    "* <a href=\"#Study-how-many-days-advertisements-were-displayed-('days_listed').\">Study how many days advertisements were displayed ('days_listed)</a>\n",
    "* <a href=\"#Analyze-the-number-of-ads-and-the-average-price-for-each-type-of-vehicle.\">Analyze the number of ads and the average price for each type of vehicle</a>\n",
    "* <a href=\"#What-factors-impact-the-price-most?\">What factors impact the price most?</a>\n",
    "\n",
    "<a href=\"#Step-5.-Overall-conclusion\">Step 5. Overall conclusion</a>\n",
    "\n",
    "<a href=\"#Project-completion-checklist\">Project completion checklist</a>"
   ]
  },
  {
   "cell_type": "markdown",
   "metadata": {},
   "source": [
    "### Step 1. Open the data file and study the general information."
   ]
  },
  {
   "cell_type": "code",
   "execution_count": 1,
   "metadata": {},
   "outputs": [
    {
     "name": "stdout",
     "output_type": "stream",
     "text": [
      "<class 'pandas.core.frame.DataFrame'>\n",
      "RangeIndex: 51525 entries, 0 to 51524\n",
      "Data columns (total 13 columns):\n",
      "price           51525 non-null int64\n",
      "model_year      47906 non-null float64\n",
      "model           51525 non-null object\n",
      "condition       51525 non-null object\n",
      "cylinders       46265 non-null float64\n",
      "fuel            51525 non-null object\n",
      "odometer        43633 non-null float64\n",
      "transmission    51525 non-null object\n",
      "type            51525 non-null object\n",
      "paint_color     42258 non-null object\n",
      "is_4wd          25572 non-null float64\n",
      "date_posted     51525 non-null object\n",
      "days_listed     51525 non-null int64\n",
      "dtypes: float64(4), int64(2), object(7)\n",
      "memory usage: 5.1+ MB\n"
     ]
    },
    {
     "data": {
      "text/plain": [
       "None"
      ]
     },
     "metadata": {},
     "output_type": "display_data"
    },
    {
     "data": {
      "text/html": [
       "<div>\n",
       "<style scoped>\n",
       "    .dataframe tbody tr th:only-of-type {\n",
       "        vertical-align: middle;\n",
       "    }\n",
       "\n",
       "    .dataframe tbody tr th {\n",
       "        vertical-align: top;\n",
       "    }\n",
       "\n",
       "    .dataframe thead th {\n",
       "        text-align: right;\n",
       "    }\n",
       "</style>\n",
       "<table border=\"1\" class=\"dataframe\">\n",
       "  <thead>\n",
       "    <tr style=\"text-align: right;\">\n",
       "      <th></th>\n",
       "      <th>price</th>\n",
       "      <th>model_year</th>\n",
       "      <th>model</th>\n",
       "      <th>condition</th>\n",
       "      <th>cylinders</th>\n",
       "      <th>fuel</th>\n",
       "      <th>odometer</th>\n",
       "      <th>transmission</th>\n",
       "      <th>type</th>\n",
       "      <th>paint_color</th>\n",
       "      <th>is_4wd</th>\n",
       "      <th>date_posted</th>\n",
       "      <th>days_listed</th>\n",
       "    </tr>\n",
       "  </thead>\n",
       "  <tbody>\n",
       "    <tr>\n",
       "      <td>0</td>\n",
       "      <td>9400</td>\n",
       "      <td>2011.0</td>\n",
       "      <td>bmw x5</td>\n",
       "      <td>good</td>\n",
       "      <td>6.0</td>\n",
       "      <td>gas</td>\n",
       "      <td>145000.0</td>\n",
       "      <td>automatic</td>\n",
       "      <td>SUV</td>\n",
       "      <td>NaN</td>\n",
       "      <td>1.0</td>\n",
       "      <td>2018-06-23</td>\n",
       "      <td>19</td>\n",
       "    </tr>\n",
       "    <tr>\n",
       "      <td>1</td>\n",
       "      <td>25500</td>\n",
       "      <td>NaN</td>\n",
       "      <td>ford f-150</td>\n",
       "      <td>good</td>\n",
       "      <td>6.0</td>\n",
       "      <td>gas</td>\n",
       "      <td>88705.0</td>\n",
       "      <td>automatic</td>\n",
       "      <td>pickup</td>\n",
       "      <td>white</td>\n",
       "      <td>1.0</td>\n",
       "      <td>2018-10-19</td>\n",
       "      <td>50</td>\n",
       "    </tr>\n",
       "    <tr>\n",
       "      <td>2</td>\n",
       "      <td>5500</td>\n",
       "      <td>2013.0</td>\n",
       "      <td>hyundai sonata</td>\n",
       "      <td>like new</td>\n",
       "      <td>4.0</td>\n",
       "      <td>gas</td>\n",
       "      <td>110000.0</td>\n",
       "      <td>automatic</td>\n",
       "      <td>sedan</td>\n",
       "      <td>red</td>\n",
       "      <td>NaN</td>\n",
       "      <td>2019-02-07</td>\n",
       "      <td>79</td>\n",
       "    </tr>\n",
       "    <tr>\n",
       "      <td>3</td>\n",
       "      <td>1500</td>\n",
       "      <td>2003.0</td>\n",
       "      <td>ford f-150</td>\n",
       "      <td>fair</td>\n",
       "      <td>8.0</td>\n",
       "      <td>gas</td>\n",
       "      <td>NaN</td>\n",
       "      <td>automatic</td>\n",
       "      <td>pickup</td>\n",
       "      <td>NaN</td>\n",
       "      <td>NaN</td>\n",
       "      <td>2019-03-22</td>\n",
       "      <td>9</td>\n",
       "    </tr>\n",
       "    <tr>\n",
       "      <td>4</td>\n",
       "      <td>14900</td>\n",
       "      <td>2017.0</td>\n",
       "      <td>chrysler 200</td>\n",
       "      <td>excellent</td>\n",
       "      <td>4.0</td>\n",
       "      <td>gas</td>\n",
       "      <td>80903.0</td>\n",
       "      <td>automatic</td>\n",
       "      <td>sedan</td>\n",
       "      <td>black</td>\n",
       "      <td>NaN</td>\n",
       "      <td>2019-04-02</td>\n",
       "      <td>28</td>\n",
       "    </tr>\n",
       "    <tr>\n",
       "      <td>5</td>\n",
       "      <td>14990</td>\n",
       "      <td>2014.0</td>\n",
       "      <td>chrysler 300</td>\n",
       "      <td>excellent</td>\n",
       "      <td>6.0</td>\n",
       "      <td>gas</td>\n",
       "      <td>57954.0</td>\n",
       "      <td>automatic</td>\n",
       "      <td>sedan</td>\n",
       "      <td>black</td>\n",
       "      <td>1.0</td>\n",
       "      <td>2018-06-20</td>\n",
       "      <td>15</td>\n",
       "    </tr>\n",
       "    <tr>\n",
       "      <td>6</td>\n",
       "      <td>12990</td>\n",
       "      <td>2015.0</td>\n",
       "      <td>toyota camry</td>\n",
       "      <td>excellent</td>\n",
       "      <td>4.0</td>\n",
       "      <td>gas</td>\n",
       "      <td>79212.0</td>\n",
       "      <td>automatic</td>\n",
       "      <td>sedan</td>\n",
       "      <td>white</td>\n",
       "      <td>NaN</td>\n",
       "      <td>2018-12-27</td>\n",
       "      <td>73</td>\n",
       "    </tr>\n",
       "    <tr>\n",
       "      <td>7</td>\n",
       "      <td>15990</td>\n",
       "      <td>2013.0</td>\n",
       "      <td>honda pilot</td>\n",
       "      <td>excellent</td>\n",
       "      <td>6.0</td>\n",
       "      <td>gas</td>\n",
       "      <td>109473.0</td>\n",
       "      <td>automatic</td>\n",
       "      <td>SUV</td>\n",
       "      <td>black</td>\n",
       "      <td>1.0</td>\n",
       "      <td>2019-01-07</td>\n",
       "      <td>68</td>\n",
       "    </tr>\n",
       "    <tr>\n",
       "      <td>8</td>\n",
       "      <td>11500</td>\n",
       "      <td>2012.0</td>\n",
       "      <td>kia sorento</td>\n",
       "      <td>excellent</td>\n",
       "      <td>4.0</td>\n",
       "      <td>gas</td>\n",
       "      <td>104174.0</td>\n",
       "      <td>automatic</td>\n",
       "      <td>SUV</td>\n",
       "      <td>NaN</td>\n",
       "      <td>1.0</td>\n",
       "      <td>2018-07-16</td>\n",
       "      <td>19</td>\n",
       "    </tr>\n",
       "    <tr>\n",
       "      <td>9</td>\n",
       "      <td>9200</td>\n",
       "      <td>2008.0</td>\n",
       "      <td>honda pilot</td>\n",
       "      <td>excellent</td>\n",
       "      <td>NaN</td>\n",
       "      <td>gas</td>\n",
       "      <td>147191.0</td>\n",
       "      <td>automatic</td>\n",
       "      <td>SUV</td>\n",
       "      <td>blue</td>\n",
       "      <td>1.0</td>\n",
       "      <td>2019-02-15</td>\n",
       "      <td>17</td>\n",
       "    </tr>\n",
       "  </tbody>\n",
       "</table>\n",
       "</div>"
      ],
      "text/plain": [
       "   price  model_year           model  condition  cylinders fuel  odometer  \\\n",
       "0   9400      2011.0          bmw x5       good        6.0  gas  145000.0   \n",
       "1  25500         NaN      ford f-150       good        6.0  gas   88705.0   \n",
       "2   5500      2013.0  hyundai sonata   like new        4.0  gas  110000.0   \n",
       "3   1500      2003.0      ford f-150       fair        8.0  gas       NaN   \n",
       "4  14900      2017.0    chrysler 200  excellent        4.0  gas   80903.0   \n",
       "5  14990      2014.0    chrysler 300  excellent        6.0  gas   57954.0   \n",
       "6  12990      2015.0    toyota camry  excellent        4.0  gas   79212.0   \n",
       "7  15990      2013.0     honda pilot  excellent        6.0  gas  109473.0   \n",
       "8  11500      2012.0     kia sorento  excellent        4.0  gas  104174.0   \n",
       "9   9200      2008.0     honda pilot  excellent        NaN  gas  147191.0   \n",
       "\n",
       "  transmission    type paint_color  is_4wd date_posted  days_listed  \n",
       "0    automatic     SUV         NaN     1.0  2018-06-23           19  \n",
       "1    automatic  pickup       white     1.0  2018-10-19           50  \n",
       "2    automatic   sedan         red     NaN  2019-02-07           79  \n",
       "3    automatic  pickup         NaN     NaN  2019-03-22            9  \n",
       "4    automatic   sedan       black     NaN  2019-04-02           28  \n",
       "5    automatic   sedan       black     1.0  2018-06-20           15  \n",
       "6    automatic   sedan       white     NaN  2018-12-27           73  \n",
       "7    automatic     SUV       black     1.0  2019-01-07           68  \n",
       "8    automatic     SUV         NaN     1.0  2018-07-16           19  \n",
       "9    automatic     SUV        blue     1.0  2019-02-15           17  "
      ]
     },
     "metadata": {},
     "output_type": "display_data"
    }
   ],
   "source": [
    "# load libraries\n",
    "from IPython.display import display\n",
    "import pandas as pd\n",
    "import matplotlib.pyplot as plt \n",
    "\n",
    "# load the csv data file to python and save it to vehicles DataFrame\n",
    "vehicles = pd.read_csv('/datasets/vehicles_us.csv')\n",
    "\n",
    "# print the size of the dataset\n",
    "display(vehicles.info())\n",
    "\n",
    "# print the first ten rows of the dataset\n",
    "display(vehicles.head(10))"
   ]
  },
  {
   "cell_type": "markdown",
   "metadata": {},
   "source": [
    "##### Conclusion\n",
    "\n",
    "The dataset consists of 51525 rows and 13 columns in total, 8 columns with categorical variables [['model'](), ['condition'](), ['cylinders'](), ['fuel'](), ['transmission'](), ['type'](), ['paint_color'](), ['is_4wd']()] and 5 columns with quantitative variables [['price'](), ['model_year'](), ['odometer'](), ['date_posted'](), ['days_listed']()].\n",
    "\n",
    "There are five columns with missing values [['model_year'](), ['cylinders'](), ['odometer'](), ['paint_color']() and ['is_4wd']()].\n",
    "\n",
    "[<a href=\"#Table-of-Contents\">Back to top</a>]"
   ]
  },
  {
   "cell_type": "markdown",
   "metadata": {},
   "source": [
    "### Step 2. Data preprocessing\n",
    "\n",
    "#### Identify and study missing values"
   ]
  },
  {
   "cell_type": "code",
   "execution_count": 2,
   "metadata": {},
   "outputs": [
    {
     "data": {
      "text/plain": [
       "'The total number of missing values per column:'"
      ]
     },
     "metadata": {},
     "output_type": "display_data"
    },
    {
     "data": {
      "text/plain": [
       "price               0\n",
       "model_year       3619\n",
       "model               0\n",
       "condition           0\n",
       "cylinders        5260\n",
       "fuel                0\n",
       "odometer         7892\n",
       "transmission        0\n",
       "type                0\n",
       "paint_color      9267\n",
       "is_4wd          25953\n",
       "date_posted         0\n",
       "days_listed         0\n",
       "dtype: int64"
      ]
     },
     "metadata": {},
     "output_type": "display_data"
    },
    {
     "data": {
      "text/plain": [
       "'The percentage of missing values per column:'"
      ]
     },
     "metadata": {},
     "output_type": "display_data"
    },
    {
     "data": {
      "text/plain": [
       "price           0.000000\n",
       "model_year      0.070238\n",
       "model           0.000000\n",
       "condition       0.000000\n",
       "cylinders       0.102086\n",
       "fuel            0.000000\n",
       "odometer        0.153168\n",
       "transmission    0.000000\n",
       "type            0.000000\n",
       "paint_color     0.179854\n",
       "is_4wd          0.503697\n",
       "date_posted     0.000000\n",
       "days_listed     0.000000\n",
       "dtype: float64"
      ]
     },
     "metadata": {},
     "output_type": "display_data"
    },
    {
     "data": {
      "text/plain": [
       "'Counts of Unique values in each column including NaN'"
      ]
     },
     "metadata": {},
     "output_type": "display_data"
    },
    {
     "data": {
      "text/plain": [
       "price            3443\n",
       "model_year         69\n",
       "model             100\n",
       "condition           6\n",
       "cylinders           8\n",
       "fuel                5\n",
       "odometer        17763\n",
       "transmission        3\n",
       "type               13\n",
       "paint_color        13\n",
       "is_4wd              2\n",
       "date_posted       354\n",
       "days_listed       227\n",
       "dtype: int64"
      ]
     },
     "metadata": {},
     "output_type": "display_data"
    }
   ],
   "source": [
    "# display the total number of missing values per column in the dataset\n",
    "display(\"The total number of missing values per column:\")\n",
    "display(vehicles.isnull().sum())\n",
    "\n",
    "display(\"The percentage of missing values per column:\")\n",
    "display(vehicles.isnull().sum() / len(vehicles))\n",
    "\n",
    "# display the number of unique values in each column of the dataset including NaN\n",
    "display(\"Counts of Unique values in each column including NaN\")\n",
    "display(vehicles.nunique(dropna=False))"
   ]
  },
  {
   "cell_type": "markdown",
   "metadata": {},
   "source": [
    "##### Conclusion\n",
    "\n",
    "We investigate the dataframe to know the columns with missing values and also the number and percentage of the missing values in each column. A significant 50% values are missing in ['is_4wd']() column. We also determine the number of unique values in each column.\n",
    "\n",
    "[<a href=\"#Table-of-Contents\">Back to top</a>]"
   ]
  },
  {
   "cell_type": "markdown",
   "metadata": {},
   "source": [
    "##### MODEL_YEAR"
   ]
  },
  {
   "cell_type": "code",
   "execution_count": 3,
   "metadata": {},
   "outputs": [
    {
     "data": {
      "text/html": [
       "<div>\n",
       "<style scoped>\n",
       "    .dataframe tbody tr th:only-of-type {\n",
       "        vertical-align: middle;\n",
       "    }\n",
       "\n",
       "    .dataframe tbody tr th {\n",
       "        vertical-align: top;\n",
       "    }\n",
       "\n",
       "    .dataframe thead th {\n",
       "        text-align: right;\n",
       "    }\n",
       "</style>\n",
       "<table border=\"1\" class=\"dataframe\">\n",
       "  <thead>\n",
       "    <tr style=\"text-align: right;\">\n",
       "      <th></th>\n",
       "      <th></th>\n",
       "      <th></th>\n",
       "      <th>model_year</th>\n",
       "    </tr>\n",
       "    <tr>\n",
       "      <th>model</th>\n",
       "      <th>transmission</th>\n",
       "      <th>type</th>\n",
       "      <th></th>\n",
       "    </tr>\n",
       "  </thead>\n",
       "  <tbody>\n",
       "    <tr>\n",
       "      <td rowspan=\"4\" valign=\"top\">acura tl</td>\n",
       "      <td rowspan=\"3\" valign=\"top\">automatic</td>\n",
       "      <td>SUV</td>\n",
       "      <td>2007.000000</td>\n",
       "    </tr>\n",
       "    <tr>\n",
       "      <td>other</td>\n",
       "      <td>2006.000000</td>\n",
       "    </tr>\n",
       "    <tr>\n",
       "      <td>sedan</td>\n",
       "      <td>2007.606635</td>\n",
       "    </tr>\n",
       "    <tr>\n",
       "      <td>manual</td>\n",
       "      <td>sedan</td>\n",
       "      <td>2005.750000</td>\n",
       "    </tr>\n",
       "    <tr>\n",
       "      <td>bmw x5</td>\n",
       "      <td>automatic</td>\n",
       "      <td>SUV</td>\n",
       "      <td>2009.220721</td>\n",
       "    </tr>\n",
       "  </tbody>\n",
       "</table>\n",
       "</div>"
      ],
      "text/plain": [
       "                              model_year\n",
       "model    transmission type              \n",
       "acura tl automatic    SUV    2007.000000\n",
       "                      other  2006.000000\n",
       "                      sedan  2007.606635\n",
       "         manual       sedan  2005.750000\n",
       "bmw x5   automatic    SUV    2009.220721"
      ]
     },
     "metadata": {},
     "output_type": "display_data"
    },
    {
     "data": {
      "text/plain": [
       "0"
      ]
     },
     "metadata": {},
     "output_type": "display_data"
    }
   ],
   "source": [
    "# categorize the dataframe using pivot table\n",
    "display(vehicles.pivot_table(index=['model', 'transmission', 'type'], values='model_year').head())\n",
    "\n",
    "# fill in missing values with mode values\n",
    "vehicles['model_year'] = vehicles.groupby('model')['model_year'].apply(\n",
    "    lambda x: x.fillna(x.mode().iloc[0]))\n",
    "\n",
    "# display number of missing values in the column \n",
    "display(vehicles['model_year'].isnull().sum())"
   ]
  },
  {
   "cell_type": "markdown",
   "metadata": {},
   "source": [
    "##### Conclusion\n",
    "\n",
    "We categorized the dataframe to have an idea of how to fill our missing values. These missing values in our dataframe could be as a result of error of omission when inputing the data or maybe it was assumed that the vehicles of the same models have the same model year and does not need to be input repeatedly. So we decided to fill the missing values in this column with the most common model year grouped by the model because we assumed that vehicles of the same model are likely to have the same model year or with a range of model year.   \n",
    "\n",
    "[<a href=\"#Table-of-Contents\">Back to top</a>]"
   ]
  },
  {
   "cell_type": "markdown",
   "metadata": {},
   "source": [
    "##### CYLINDERS"
   ]
  },
  {
   "cell_type": "code",
   "execution_count": 4,
   "metadata": {},
   "outputs": [
    {
     "data": {
      "text/plain": [
       "0"
      ]
     },
     "metadata": {},
     "output_type": "display_data"
    }
   ],
   "source": [
    "# fill in missing values with median values\n",
    "vehicles['cylinders'] = vehicles['cylinders'].fillna(vehicles.groupby(\n",
    "    'model')['cylinders'].transform('median'))\n",
    "\n",
    "# display number of missing values in the column\n",
    "display(vehicles['cylinders'].isnull().sum())"
   ]
  },
  {
   "cell_type": "markdown",
   "metadata": {},
   "source": [
    "##### Conclusion\n",
    "\n",
    "It is possible that information of some vehicles' cylinder were not accessible during the data collection process which leads to us having missing values in the ['cylinders']() column. Since we are yet to determine whether the dataframe has outliers or not, we decided to fill the missing values with the median value of the cylinders for each model in the dataframe.\n",
    "\n",
    "[<a href=\"#Table-of-Contents\">Back to top</a>]"
   ]
  },
  {
   "cell_type": "markdown",
   "metadata": {},
   "source": [
    "##### ODOMETER"
   ]
  },
  {
   "cell_type": "code",
   "execution_count": 5,
   "metadata": {},
   "outputs": [
    {
     "data": {
      "text/plain": [
       "1"
      ]
     },
     "metadata": {},
     "output_type": "display_data"
    },
    {
     "data": {
      "text/html": [
       "<div>\n",
       "<style scoped>\n",
       "    .dataframe tbody tr th:only-of-type {\n",
       "        vertical-align: middle;\n",
       "    }\n",
       "\n",
       "    .dataframe tbody tr th {\n",
       "        vertical-align: top;\n",
       "    }\n",
       "\n",
       "    .dataframe thead th {\n",
       "        text-align: right;\n",
       "    }\n",
       "</style>\n",
       "<table border=\"1\" class=\"dataframe\">\n",
       "  <thead>\n",
       "    <tr style=\"text-align: right;\">\n",
       "      <th></th>\n",
       "      <th>price</th>\n",
       "      <th>model_year</th>\n",
       "      <th>model</th>\n",
       "      <th>condition</th>\n",
       "      <th>cylinders</th>\n",
       "      <th>fuel</th>\n",
       "      <th>odometer</th>\n",
       "      <th>transmission</th>\n",
       "      <th>type</th>\n",
       "      <th>paint_color</th>\n",
       "      <th>is_4wd</th>\n",
       "      <th>date_posted</th>\n",
       "      <th>days_listed</th>\n",
       "    </tr>\n",
       "  </thead>\n",
       "  <tbody>\n",
       "    <tr>\n",
       "      <td>45694</td>\n",
       "      <td>18000</td>\n",
       "      <td>1929.0</td>\n",
       "      <td>ford f-150</td>\n",
       "      <td>good</td>\n",
       "      <td>8.0</td>\n",
       "      <td>gas</td>\n",
       "      <td>NaN</td>\n",
       "      <td>manual</td>\n",
       "      <td>other</td>\n",
       "      <td>silver</td>\n",
       "      <td>NaN</td>\n",
       "      <td>2018-11-18</td>\n",
       "      <td>59</td>\n",
       "    </tr>\n",
       "  </tbody>\n",
       "</table>\n",
       "</div>"
      ],
      "text/plain": [
       "       price  model_year       model condition  cylinders fuel  odometer  \\\n",
       "45694  18000      1929.0  ford f-150      good        8.0  gas       NaN   \n",
       "\n",
       "      transmission   type paint_color  is_4wd date_posted  days_listed  \n",
       "45694       manual  other      silver     NaN  2018-11-18           59  "
      ]
     },
     "metadata": {},
     "output_type": "display_data"
    },
    {
     "data": {
      "text/html": [
       "<div>\n",
       "<style scoped>\n",
       "    .dataframe tbody tr th:only-of-type {\n",
       "        vertical-align: middle;\n",
       "    }\n",
       "\n",
       "    .dataframe tbody tr th {\n",
       "        vertical-align: top;\n",
       "    }\n",
       "\n",
       "    .dataframe thead th {\n",
       "        text-align: right;\n",
       "    }\n",
       "</style>\n",
       "<table border=\"1\" class=\"dataframe\">\n",
       "  <thead>\n",
       "    <tr style=\"text-align: right;\">\n",
       "      <th></th>\n",
       "      <th>price</th>\n",
       "      <th>model_year</th>\n",
       "      <th>model</th>\n",
       "      <th>condition</th>\n",
       "      <th>cylinders</th>\n",
       "      <th>fuel</th>\n",
       "      <th>odometer</th>\n",
       "      <th>transmission</th>\n",
       "      <th>type</th>\n",
       "      <th>paint_color</th>\n",
       "      <th>is_4wd</th>\n",
       "      <th>date_posted</th>\n",
       "      <th>days_listed</th>\n",
       "    </tr>\n",
       "  </thead>\n",
       "  <tbody>\n",
       "    <tr>\n",
       "      <td>45694</td>\n",
       "      <td>18000</td>\n",
       "      <td>1929.0</td>\n",
       "      <td>ford f-150</td>\n",
       "      <td>good</td>\n",
       "      <td>8.0</td>\n",
       "      <td>gas</td>\n",
       "      <td>NaN</td>\n",
       "      <td>manual</td>\n",
       "      <td>other</td>\n",
       "      <td>silver</td>\n",
       "      <td>NaN</td>\n",
       "      <td>2018-11-18</td>\n",
       "      <td>59</td>\n",
       "    </tr>\n",
       "  </tbody>\n",
       "</table>\n",
       "</div>"
      ],
      "text/plain": [
       "       price  model_year       model condition  cylinders fuel  odometer  \\\n",
       "45694  18000      1929.0  ford f-150      good        8.0  gas       NaN   \n",
       "\n",
       "      transmission   type paint_color  is_4wd date_posted  days_listed  \n",
       "45694       manual  other      silver     NaN  2018-11-18           59  "
      ]
     },
     "metadata": {},
     "output_type": "display_data"
    },
    {
     "data": {
      "text/html": [
       "<div>\n",
       "<style scoped>\n",
       "    .dataframe tbody tr th:only-of-type {\n",
       "        vertical-align: middle;\n",
       "    }\n",
       "\n",
       "    .dataframe tbody tr th {\n",
       "        vertical-align: top;\n",
       "    }\n",
       "\n",
       "    .dataframe thead th {\n",
       "        text-align: right;\n",
       "    }\n",
       "</style>\n",
       "<table border=\"1\" class=\"dataframe\">\n",
       "  <thead>\n",
       "    <tr style=\"text-align: right;\">\n",
       "      <th></th>\n",
       "      <th>price</th>\n",
       "      <th>model_year</th>\n",
       "      <th>model</th>\n",
       "      <th>condition</th>\n",
       "      <th>cylinders</th>\n",
       "      <th>fuel</th>\n",
       "      <th>odometer</th>\n",
       "      <th>transmission</th>\n",
       "      <th>type</th>\n",
       "      <th>paint_color</th>\n",
       "      <th>is_4wd</th>\n",
       "      <th>date_posted</th>\n",
       "      <th>days_listed</th>\n",
       "    </tr>\n",
       "  </thead>\n",
       "  <tbody>\n",
       "    <tr>\n",
       "      <td>33906</td>\n",
       "      <td>12995</td>\n",
       "      <td>1908.0</td>\n",
       "      <td>gmc yukon</td>\n",
       "      <td>good</td>\n",
       "      <td>8.0</td>\n",
       "      <td>gas</td>\n",
       "      <td>169328.0</td>\n",
       "      <td>automatic</td>\n",
       "      <td>SUV</td>\n",
       "      <td>black</td>\n",
       "      <td>NaN</td>\n",
       "      <td>2018-07-06</td>\n",
       "      <td>34</td>\n",
       "    </tr>\n",
       "    <tr>\n",
       "      <td>33907</td>\n",
       "      <td>12995</td>\n",
       "      <td>1908.0</td>\n",
       "      <td>cadillac escalade</td>\n",
       "      <td>excellent</td>\n",
       "      <td>8.0</td>\n",
       "      <td>gas</td>\n",
       "      <td>169328.0</td>\n",
       "      <td>automatic</td>\n",
       "      <td>SUV</td>\n",
       "      <td>white</td>\n",
       "      <td>NaN</td>\n",
       "      <td>2018-06-24</td>\n",
       "      <td>25</td>\n",
       "    </tr>\n",
       "  </tbody>\n",
       "</table>\n",
       "</div>"
      ],
      "text/plain": [
       "       price  model_year              model  condition  cylinders fuel  \\\n",
       "33906  12995      1908.0          gmc yukon       good        8.0  gas   \n",
       "33907  12995      1908.0  cadillac escalade  excellent        8.0  gas   \n",
       "\n",
       "       odometer transmission type paint_color  is_4wd date_posted  days_listed  \n",
       "33906  169328.0    automatic  SUV       black     NaN  2018-07-06           34  \n",
       "33907  169328.0    automatic  SUV       white     NaN  2018-06-24           25  "
      ]
     },
     "metadata": {},
     "output_type": "display_data"
    },
    {
     "data": {
      "text/plain": [
       "0"
      ]
     },
     "metadata": {},
     "output_type": "display_data"
    },
    {
     "data": {
      "text/plain": [
       "2007.0"
      ]
     },
     "metadata": {},
     "output_type": "display_data"
    },
    {
     "data": {
      "text/plain": [
       "2007.0"
      ]
     },
     "metadata": {},
     "output_type": "display_data"
    }
   ],
   "source": [
    "# fill in missing values with median values\n",
    "vehicles['odometer'] = vehicles['odometer'].fillna(\n",
    "    vehicles.groupby(['model_year'])['odometer'].transform('median'))\n",
    "\n",
    "# display number of missing values in the column\n",
    "display(vehicles['odometer'].isnull().sum())\n",
    "\n",
    "# display the row with missing value\n",
    "display(vehicles[vehicles['odometer'].isnull()])\n",
    "\n",
    "# display rows with model year 1929.0\n",
    "display(vehicles[vehicles['model_year'] == 1929.0])\n",
    "\n",
    "# display rows with model year less than 1929.0\n",
    "display(vehicles[vehicles['model_year'] < 1929.0])\n",
    "\n",
    "# drop the missing value in column 'odometer'\n",
    "vehicles.dropna(subset=['odometer'], inplace = True)\n",
    "\n",
    "# display number of missing values in the column\n",
    "display(vehicles['odometer'].isnull().sum())\n",
    "\n",
    "# get the most common year of gmc yukon model\n",
    "gmc = vehicles[(vehicles['model'] == 'gmc yukon')]\n",
    "mode_gmc = gmc['model_year'].value_counts().idxmax()\n",
    "display(mode_gmc)\n",
    "\n",
    "# get the most common year of cadillac escalade model\n",
    "cadillac = vehicles[(vehicles['model'] == 'cadillac escalade')]\n",
    "mode_cadillac = cadillac['model_year'].value_counts().idxmax()\n",
    "display(mode_cadillac)\n",
    "\n",
    "# replace the model year 1908.0 with 2007.0\n",
    "vehicles.loc[vehicles['model_year'] == 1908.0, 'model_year'] = 2007.0"
   ]
  },
  {
   "cell_type": "markdown",
   "metadata": {},
   "source": [
    "##### Conclusion\n",
    "\n",
    "We can assume that the missing values in column ['odometer']() is as a result of faulty odometer which makes it difficult or unreadable when collecting data. \n",
    "\n",
    "We assumed that vehicles with the same model year will have slight difference in their odometer. So we used the median of ['odometer']() grouped by the vehicles' model year to update the missing values in column ['odometer'](). \n",
    "\n",
    "We discovered that there are still 1 missing value in the column, so we decided to inspect this row. To our surprise, the missing value is model [ford f-150]() and the model year is 1929. We continue our investigation to found out that this vehicle is the only vehicle with the model year 1929. We decided to deepened our investigation by looking through the dataframe if there are vehicles with model year closer to 1929 so we can use to update our missing odometer.\n",
    "\n",
    "But then we dicovered that there are two different models of vehicles with model year of 1908, and both are automatic cars. No automatic cars has been launched during that time. So we decided to drop the row with missing odometer and update the two rows with model year 1908 with the most common year of each model.\n",
    "\n",
    "[<a href=\"#Table-of-Contents\">Back to top</a>]"
   ]
  },
  {
   "cell_type": "markdown",
   "metadata": {},
   "source": [
    "##### PAINT_COLOR"
   ]
  },
  {
   "cell_type": "code",
   "execution_count": 6,
   "metadata": {},
   "outputs": [
    {
     "data": {
      "text/plain": [
       "array([nan, 'white', 'red', 'black', 'blue', 'grey', 'silver', 'custom',\n",
       "       'orange', 'yellow', 'brown', 'green', 'purple'], dtype=object)"
      ]
     },
     "metadata": {},
     "output_type": "display_data"
    },
    {
     "data": {
      "text/plain": [
       "0"
      ]
     },
     "metadata": {},
     "output_type": "display_data"
    }
   ],
   "source": [
    "# display the uniques values in column 'paint_color'\n",
    "display(vehicles['paint_color'].unique())\n",
    "\n",
    "# fill in missing values with 'default'\n",
    "vehicles['paint_color'] = vehicles['paint_color'].fillna(value='custom')\n",
    "\n",
    "# display number of missing values in the column\n",
    "display(vehicles['paint_color'].isnull().sum())"
   ]
  },
  {
   "cell_type": "markdown",
   "metadata": {},
   "source": [
    "##### Conclusion\n",
    "\n",
    "The column ['paint_color']() has 9267 missing values. This could be as result of vehicles with mutiple colors, which will be impossible to input into the dataset.\n",
    "\n",
    "Since it will be almost impossible for us to predict the color of a particular vehicle as there are 11 different colors in the column. So we decided to fill the missing values with 'custom', assuming the missing colors are customized with multiple color.\n",
    "\n",
    "[<a href=\"#Table-of-Contents\">Back to top</a>]"
   ]
  },
  {
   "cell_type": "markdown",
   "metadata": {},
   "source": [
    "##### IS_4WD"
   ]
  },
  {
   "cell_type": "code",
   "execution_count": 7,
   "metadata": {},
   "outputs": [
    {
     "data": {
      "text/plain": [
       "array([ 1., nan])"
      ]
     },
     "metadata": {},
     "output_type": "display_data"
    },
    {
     "data": {
      "text/plain": [
       "0"
      ]
     },
     "metadata": {},
     "output_type": "display_data"
    }
   ],
   "source": [
    "# display the uniques values in column 'is_4wd'\n",
    "display(vehicles['is_4wd'].unique())\n",
    "\n",
    "# fill the missing values with 0\n",
    "vehicles['is_4wd'] = vehicles['is_4wd'].fillna(value=0)\n",
    "\n",
    "# display number of missing values in the column\n",
    "display(vehicles['is_4wd'].isnull().sum())"
   ]
  },
  {
   "cell_type": "markdown",
   "metadata": {},
   "source": [
    "##### Conclusion\n",
    "\n",
    "The data engineer might decided to just input the data for the vehicles with the 4 wheel drive feature, leaving the remaining vehicles without the feature blank. We filled our missing values with 0 based on this assumption since all the inputted values are 1s (meaning true that the vehicle is 4wd). \n",
    "\n",
    "[<a href=\"#Table-of-Contents\">Back to top</a>]"
   ]
  },
  {
   "cell_type": "markdown",
   "metadata": {},
   "source": [
    "#### Convert the data to the required types"
   ]
  },
  {
   "cell_type": "markdown",
   "metadata": {},
   "source": [
    "##### MODEL_YEAR"
   ]
  },
  {
   "cell_type": "code",
   "execution_count": 8,
   "metadata": {},
   "outputs": [
    {
     "data": {
      "text/plain": [
       "dtype('int64')"
      ]
     },
     "metadata": {},
     "output_type": "display_data"
    },
    {
     "data": {
      "text/html": [
       "<div>\n",
       "<style scoped>\n",
       "    .dataframe tbody tr th:only-of-type {\n",
       "        vertical-align: middle;\n",
       "    }\n",
       "\n",
       "    .dataframe tbody tr th {\n",
       "        vertical-align: top;\n",
       "    }\n",
       "\n",
       "    .dataframe thead th {\n",
       "        text-align: right;\n",
       "    }\n",
       "</style>\n",
       "<table border=\"1\" class=\"dataframe\">\n",
       "  <thead>\n",
       "    <tr style=\"text-align: right;\">\n",
       "      <th></th>\n",
       "      <th>price</th>\n",
       "      <th>model_year</th>\n",
       "      <th>model</th>\n",
       "      <th>condition</th>\n",
       "      <th>cylinders</th>\n",
       "      <th>fuel</th>\n",
       "      <th>odometer</th>\n",
       "      <th>transmission</th>\n",
       "      <th>type</th>\n",
       "      <th>paint_color</th>\n",
       "      <th>is_4wd</th>\n",
       "      <th>date_posted</th>\n",
       "      <th>days_listed</th>\n",
       "    </tr>\n",
       "  </thead>\n",
       "  <tbody>\n",
       "    <tr>\n",
       "      <td>0</td>\n",
       "      <td>9400</td>\n",
       "      <td>2011</td>\n",
       "      <td>bmw x5</td>\n",
       "      <td>good</td>\n",
       "      <td>6.0</td>\n",
       "      <td>gas</td>\n",
       "      <td>145000.0</td>\n",
       "      <td>automatic</td>\n",
       "      <td>SUV</td>\n",
       "      <td>custom</td>\n",
       "      <td>1.0</td>\n",
       "      <td>2018-06-23</td>\n",
       "      <td>19</td>\n",
       "    </tr>\n",
       "    <tr>\n",
       "      <td>1</td>\n",
       "      <td>25500</td>\n",
       "      <td>2013</td>\n",
       "      <td>ford f-150</td>\n",
       "      <td>good</td>\n",
       "      <td>6.0</td>\n",
       "      <td>gas</td>\n",
       "      <td>88705.0</td>\n",
       "      <td>automatic</td>\n",
       "      <td>pickup</td>\n",
       "      <td>white</td>\n",
       "      <td>1.0</td>\n",
       "      <td>2018-10-19</td>\n",
       "      <td>50</td>\n",
       "    </tr>\n",
       "    <tr>\n",
       "      <td>2</td>\n",
       "      <td>5500</td>\n",
       "      <td>2013</td>\n",
       "      <td>hyundai sonata</td>\n",
       "      <td>like new</td>\n",
       "      <td>4.0</td>\n",
       "      <td>gas</td>\n",
       "      <td>110000.0</td>\n",
       "      <td>automatic</td>\n",
       "      <td>sedan</td>\n",
       "      <td>red</td>\n",
       "      <td>0.0</td>\n",
       "      <td>2019-02-07</td>\n",
       "      <td>79</td>\n",
       "    </tr>\n",
       "    <tr>\n",
       "      <td>3</td>\n",
       "      <td>1500</td>\n",
       "      <td>2003</td>\n",
       "      <td>ford f-150</td>\n",
       "      <td>fair</td>\n",
       "      <td>8.0</td>\n",
       "      <td>gas</td>\n",
       "      <td>160954.0</td>\n",
       "      <td>automatic</td>\n",
       "      <td>pickup</td>\n",
       "      <td>custom</td>\n",
       "      <td>0.0</td>\n",
       "      <td>2019-03-22</td>\n",
       "      <td>9</td>\n",
       "    </tr>\n",
       "    <tr>\n",
       "      <td>4</td>\n",
       "      <td>14900</td>\n",
       "      <td>2017</td>\n",
       "      <td>chrysler 200</td>\n",
       "      <td>excellent</td>\n",
       "      <td>4.0</td>\n",
       "      <td>gas</td>\n",
       "      <td>80903.0</td>\n",
       "      <td>automatic</td>\n",
       "      <td>sedan</td>\n",
       "      <td>black</td>\n",
       "      <td>0.0</td>\n",
       "      <td>2019-04-02</td>\n",
       "      <td>28</td>\n",
       "    </tr>\n",
       "  </tbody>\n",
       "</table>\n",
       "</div>"
      ],
      "text/plain": [
       "   price  model_year           model  condition  cylinders fuel  odometer  \\\n",
       "0   9400        2011          bmw x5       good        6.0  gas  145000.0   \n",
       "1  25500        2013      ford f-150       good        6.0  gas   88705.0   \n",
       "2   5500        2013  hyundai sonata   like new        4.0  gas  110000.0   \n",
       "3   1500        2003      ford f-150       fair        8.0  gas  160954.0   \n",
       "4  14900        2017    chrysler 200  excellent        4.0  gas   80903.0   \n",
       "\n",
       "  transmission    type paint_color  is_4wd date_posted  days_listed  \n",
       "0    automatic     SUV      custom     1.0  2018-06-23           19  \n",
       "1    automatic  pickup       white     1.0  2018-10-19           50  \n",
       "2    automatic   sedan         red     0.0  2019-02-07           79  \n",
       "3    automatic  pickup      custom     0.0  2019-03-22            9  \n",
       "4    automatic   sedan       black     0.0  2019-04-02           28  "
      ]
     },
     "metadata": {},
     "output_type": "display_data"
    }
   ],
   "source": [
    "# convert the data types of values in the column to datetime data type\n",
    "vehicles['model_year'] = pd.to_datetime(vehicles['model_year'], format='%Y')\n",
    "\n",
    "# extract the year from the date format\n",
    "vehicles['model_year'] = pd.DatetimeIndex(vehicles['model_year']).year\n",
    "\n",
    "# display the data type of the column \n",
    "display(vehicles['model_year'].dtype)\n",
    "\n",
    "# display the first five rows of the dataframe\n",
    "display(vehicles.head())"
   ]
  },
  {
   "cell_type": "markdown",
   "metadata": {},
   "source": [
    "##### Conclusion\n",
    "\n",
    "We decided to change the data type of column ['model_year']() from floating to datetime. We then extract the year from the date format so we can have only the yaer in the column. The resulting data type is integer which makes sense since the values are whole numbers.\n",
    "\n",
    "[<a href=\"#Table-of-Contents\">Back to top</a>]"
   ]
  },
  {
   "cell_type": "markdown",
   "metadata": {},
   "source": [
    "##### IS_4WD"
   ]
  },
  {
   "cell_type": "code",
   "execution_count": 9,
   "metadata": {},
   "outputs": [
    {
     "data": {
      "text/plain": [
       "dtype('bool')"
      ]
     },
     "metadata": {},
     "output_type": "display_data"
    }
   ],
   "source": [
    "# change the data type of the column to integer\n",
    "vehicles['is_4wd'] = vehicles['is_4wd'].astype('bool')\n",
    "\n",
    "# display the datatype of the column\n",
    "display(vehicles['is_4wd'].dtype)"
   ]
  },
  {
   "cell_type": "markdown",
   "metadata": {},
   "source": [
    "##### Conclusion\n",
    "\n",
    "Since the values in this column are to determine if vehicles are 4wd or not, which is a yes or no option (1s and 0s), we changed the data type from floating point to boolean using the [.astype()]() method.\n",
    "\n",
    "[<a href=\"#Table-of-Contents\">Back to top</a>]"
   ]
  },
  {
   "cell_type": "markdown",
   "metadata": {},
   "source": [
    "##### DATE_POSTED"
   ]
  },
  {
   "cell_type": "code",
   "execution_count": 10,
   "metadata": {},
   "outputs": [
    {
     "data": {
      "text/plain": [
       "dtype('<M8[ns]')"
      ]
     },
     "metadata": {},
     "output_type": "display_data"
    }
   ],
   "source": [
    "# change the data type of the column to datetime \n",
    "vehicles['date_posted'] = pd.to_datetime(vehicles['date_posted'], format='%Y-%m-%d')\n",
    "\n",
    "# display the data type of the column\n",
    "display(vehicles['date_posted'].dtype)"
   ]
  },
  {
   "cell_type": "markdown",
   "metadata": {},
   "source": [
    "##### Conclusion\n",
    "\n",
    "We changed the data type of ['date_posted']() column from string to datetime because it will be impossible to carry out calculations with the string data type and also the column stores the date each vehicle was placed on advertisement, which make sense to be in date format. \n",
    "\n",
    "[<a href=\"#Table-of-Contents\">Back to top</a>]"
   ]
  },
  {
   "cell_type": "markdown",
   "metadata": {},
   "source": [
    "#### Processing duplicates"
   ]
  },
  {
   "cell_type": "code",
   "execution_count": 11,
   "metadata": {},
   "outputs": [
    {
     "data": {
      "text/plain": [
       "'The number of duplicates in the dataset is:'"
      ]
     },
     "metadata": {},
     "output_type": "display_data"
    },
    {
     "data": {
      "text/plain": [
       "0"
      ]
     },
     "metadata": {},
     "output_type": "display_data"
    }
   ],
   "source": [
    "# get the number of duplicates in the dataset\n",
    "display(\"The number of duplicates in the dataset is:\", vehicles.duplicated().sum())"
   ]
  },
  {
   "cell_type": "markdown",
   "metadata": {},
   "source": [
    "We discovered that there is no duplicate in our data.\n",
    "\n",
    "[<a href=\"#Table-of-Contents\">Back to top</a>]"
   ]
  },
  {
   "cell_type": "markdown",
   "metadata": {},
   "source": [
    "### Step 3. Make calculations and add them to the table"
   ]
  },
  {
   "cell_type": "markdown",
   "metadata": {},
   "source": [
    "#### Day of the week, month and year"
   ]
  },
  {
   "cell_type": "code",
   "execution_count": 12,
   "metadata": {},
   "outputs": [
    {
     "data": {
      "text/html": [
       "<div>\n",
       "<style scoped>\n",
       "    .dataframe tbody tr th:only-of-type {\n",
       "        vertical-align: middle;\n",
       "    }\n",
       "\n",
       "    .dataframe tbody tr th {\n",
       "        vertical-align: top;\n",
       "    }\n",
       "\n",
       "    .dataframe thead th {\n",
       "        text-align: right;\n",
       "    }\n",
       "</style>\n",
       "<table border=\"1\" class=\"dataframe\">\n",
       "  <thead>\n",
       "    <tr style=\"text-align: right;\">\n",
       "      <th></th>\n",
       "      <th>price</th>\n",
       "      <th>model_year</th>\n",
       "      <th>model</th>\n",
       "      <th>condition</th>\n",
       "      <th>cylinders</th>\n",
       "      <th>fuel</th>\n",
       "      <th>odometer</th>\n",
       "      <th>transmission</th>\n",
       "      <th>type</th>\n",
       "      <th>paint_color</th>\n",
       "      <th>is_4wd</th>\n",
       "      <th>date_posted</th>\n",
       "      <th>days_listed</th>\n",
       "      <th>week_day</th>\n",
       "      <th>month_posted</th>\n",
       "      <th>year_posted</th>\n",
       "    </tr>\n",
       "  </thead>\n",
       "  <tbody>\n",
       "    <tr>\n",
       "      <td>0</td>\n",
       "      <td>9400</td>\n",
       "      <td>2011</td>\n",
       "      <td>bmw x5</td>\n",
       "      <td>good</td>\n",
       "      <td>6.0</td>\n",
       "      <td>gas</td>\n",
       "      <td>145000.0</td>\n",
       "      <td>automatic</td>\n",
       "      <td>SUV</td>\n",
       "      <td>custom</td>\n",
       "      <td>True</td>\n",
       "      <td>2018-06-23</td>\n",
       "      <td>19</td>\n",
       "      <td>5</td>\n",
       "      <td>6</td>\n",
       "      <td>2018</td>\n",
       "    </tr>\n",
       "    <tr>\n",
       "      <td>1</td>\n",
       "      <td>25500</td>\n",
       "      <td>2013</td>\n",
       "      <td>ford f-150</td>\n",
       "      <td>good</td>\n",
       "      <td>6.0</td>\n",
       "      <td>gas</td>\n",
       "      <td>88705.0</td>\n",
       "      <td>automatic</td>\n",
       "      <td>pickup</td>\n",
       "      <td>white</td>\n",
       "      <td>True</td>\n",
       "      <td>2018-10-19</td>\n",
       "      <td>50</td>\n",
       "      <td>4</td>\n",
       "      <td>10</td>\n",
       "      <td>2018</td>\n",
       "    </tr>\n",
       "    <tr>\n",
       "      <td>2</td>\n",
       "      <td>5500</td>\n",
       "      <td>2013</td>\n",
       "      <td>hyundai sonata</td>\n",
       "      <td>like new</td>\n",
       "      <td>4.0</td>\n",
       "      <td>gas</td>\n",
       "      <td>110000.0</td>\n",
       "      <td>automatic</td>\n",
       "      <td>sedan</td>\n",
       "      <td>red</td>\n",
       "      <td>False</td>\n",
       "      <td>2019-02-07</td>\n",
       "      <td>79</td>\n",
       "      <td>3</td>\n",
       "      <td>2</td>\n",
       "      <td>2019</td>\n",
       "    </tr>\n",
       "    <tr>\n",
       "      <td>3</td>\n",
       "      <td>1500</td>\n",
       "      <td>2003</td>\n",
       "      <td>ford f-150</td>\n",
       "      <td>fair</td>\n",
       "      <td>8.0</td>\n",
       "      <td>gas</td>\n",
       "      <td>160954.0</td>\n",
       "      <td>automatic</td>\n",
       "      <td>pickup</td>\n",
       "      <td>custom</td>\n",
       "      <td>False</td>\n",
       "      <td>2019-03-22</td>\n",
       "      <td>9</td>\n",
       "      <td>4</td>\n",
       "      <td>3</td>\n",
       "      <td>2019</td>\n",
       "    </tr>\n",
       "    <tr>\n",
       "      <td>4</td>\n",
       "      <td>14900</td>\n",
       "      <td>2017</td>\n",
       "      <td>chrysler 200</td>\n",
       "      <td>excellent</td>\n",
       "      <td>4.0</td>\n",
       "      <td>gas</td>\n",
       "      <td>80903.0</td>\n",
       "      <td>automatic</td>\n",
       "      <td>sedan</td>\n",
       "      <td>black</td>\n",
       "      <td>False</td>\n",
       "      <td>2019-04-02</td>\n",
       "      <td>28</td>\n",
       "      <td>1</td>\n",
       "      <td>4</td>\n",
       "      <td>2019</td>\n",
       "    </tr>\n",
       "  </tbody>\n",
       "</table>\n",
       "</div>"
      ],
      "text/plain": [
       "   price  model_year           model  condition  cylinders fuel  odometer  \\\n",
       "0   9400        2011          bmw x5       good        6.0  gas  145000.0   \n",
       "1  25500        2013      ford f-150       good        6.0  gas   88705.0   \n",
       "2   5500        2013  hyundai sonata   like new        4.0  gas  110000.0   \n",
       "3   1500        2003      ford f-150       fair        8.0  gas  160954.0   \n",
       "4  14900        2017    chrysler 200  excellent        4.0  gas   80903.0   \n",
       "\n",
       "  transmission    type paint_color  is_4wd date_posted  days_listed  week_day  \\\n",
       "0    automatic     SUV      custom    True  2018-06-23           19         5   \n",
       "1    automatic  pickup       white    True  2018-10-19           50         4   \n",
       "2    automatic   sedan         red   False  2019-02-07           79         3   \n",
       "3    automatic  pickup      custom   False  2019-03-22            9         4   \n",
       "4    automatic   sedan       black   False  2019-04-02           28         1   \n",
       "\n",
       "   month_posted  year_posted  \n",
       "0             6         2018  \n",
       "1            10         2018  \n",
       "2             2         2019  \n",
       "3             3         2019  \n",
       "4             4         2019  "
      ]
     },
     "metadata": {},
     "output_type": "display_data"
    }
   ],
   "source": [
    "# extract the days for the week from 'date_posted' and save it to new column 'weekdays'\n",
    "vehicles['week_day'] = vehicles['date_posted'].dt.weekday\n",
    "\n",
    "# calculating and adding a new column 'month' to the dataframe\n",
    "vehicles['month_posted'] = vehicles['date_posted'].dt.month\n",
    "\n",
    "# calculating and adding a new column 'year' to the dataframe \n",
    "vehicles['year_posted'] = vehicles['date_posted'].dt.year\n",
    "\n",
    "# display the first five rows of the dataframe\n",
    "display(vehicles.head())"
   ]
  },
  {
   "cell_type": "markdown",
   "metadata": {},
   "source": [
    "##### Conclusion\n",
    "\n",
    "We decided to create additional 3 different columns (['week_day'](), ['month_posted']() and ['year_posted']()) to our dataset. The ['week_day']() column is to store the days of week when vehicles are being placed on advertisement with 0 being monday and 6 being sunday, ['month_posted']() column to store the months when vehicles are being placed on advertisement, and ['year_posted']() column to store the year when each vehicles was placed on advertisement. These 3 new columns are extracted from the ['date_posted']() column so we will be able to carry out calculations easily.\n",
    "\n",
    "[<a href=\"#Table-of-Contents\">Back to top</a>]"
   ]
  },
  {
   "cell_type": "markdown",
   "metadata": {},
   "source": [
    "#### Vehicles' age (in years)"
   ]
  },
  {
   "cell_type": "code",
   "execution_count": 13,
   "metadata": {},
   "outputs": [
    {
     "data": {
      "text/html": [
       "<div>\n",
       "<style scoped>\n",
       "    .dataframe tbody tr th:only-of-type {\n",
       "        vertical-align: middle;\n",
       "    }\n",
       "\n",
       "    .dataframe tbody tr th {\n",
       "        vertical-align: top;\n",
       "    }\n",
       "\n",
       "    .dataframe thead th {\n",
       "        text-align: right;\n",
       "    }\n",
       "</style>\n",
       "<table border=\"1\" class=\"dataframe\">\n",
       "  <thead>\n",
       "    <tr style=\"text-align: right;\">\n",
       "      <th></th>\n",
       "      <th>price</th>\n",
       "      <th>model_year</th>\n",
       "      <th>model</th>\n",
       "      <th>condition</th>\n",
       "      <th>cylinders</th>\n",
       "      <th>fuel</th>\n",
       "      <th>odometer</th>\n",
       "      <th>transmission</th>\n",
       "      <th>type</th>\n",
       "      <th>paint_color</th>\n",
       "      <th>is_4wd</th>\n",
       "      <th>date_posted</th>\n",
       "      <th>days_listed</th>\n",
       "      <th>week_day</th>\n",
       "      <th>month_posted</th>\n",
       "      <th>year_posted</th>\n",
       "      <th>age_posted</th>\n",
       "    </tr>\n",
       "  </thead>\n",
       "  <tbody>\n",
       "    <tr>\n",
       "      <td>0</td>\n",
       "      <td>9400</td>\n",
       "      <td>2011</td>\n",
       "      <td>bmw x5</td>\n",
       "      <td>good</td>\n",
       "      <td>6.0</td>\n",
       "      <td>gas</td>\n",
       "      <td>145000.0</td>\n",
       "      <td>automatic</td>\n",
       "      <td>SUV</td>\n",
       "      <td>custom</td>\n",
       "      <td>True</td>\n",
       "      <td>2018-06-23</td>\n",
       "      <td>19</td>\n",
       "      <td>5</td>\n",
       "      <td>6</td>\n",
       "      <td>2018</td>\n",
       "      <td>7</td>\n",
       "    </tr>\n",
       "    <tr>\n",
       "      <td>1</td>\n",
       "      <td>25500</td>\n",
       "      <td>2013</td>\n",
       "      <td>ford f-150</td>\n",
       "      <td>good</td>\n",
       "      <td>6.0</td>\n",
       "      <td>gas</td>\n",
       "      <td>88705.0</td>\n",
       "      <td>automatic</td>\n",
       "      <td>pickup</td>\n",
       "      <td>white</td>\n",
       "      <td>True</td>\n",
       "      <td>2018-10-19</td>\n",
       "      <td>50</td>\n",
       "      <td>4</td>\n",
       "      <td>10</td>\n",
       "      <td>2018</td>\n",
       "      <td>5</td>\n",
       "    </tr>\n",
       "    <tr>\n",
       "      <td>2</td>\n",
       "      <td>5500</td>\n",
       "      <td>2013</td>\n",
       "      <td>hyundai sonata</td>\n",
       "      <td>like new</td>\n",
       "      <td>4.0</td>\n",
       "      <td>gas</td>\n",
       "      <td>110000.0</td>\n",
       "      <td>automatic</td>\n",
       "      <td>sedan</td>\n",
       "      <td>red</td>\n",
       "      <td>False</td>\n",
       "      <td>2019-02-07</td>\n",
       "      <td>79</td>\n",
       "      <td>3</td>\n",
       "      <td>2</td>\n",
       "      <td>2019</td>\n",
       "      <td>6</td>\n",
       "    </tr>\n",
       "    <tr>\n",
       "      <td>3</td>\n",
       "      <td>1500</td>\n",
       "      <td>2003</td>\n",
       "      <td>ford f-150</td>\n",
       "      <td>fair</td>\n",
       "      <td>8.0</td>\n",
       "      <td>gas</td>\n",
       "      <td>160954.0</td>\n",
       "      <td>automatic</td>\n",
       "      <td>pickup</td>\n",
       "      <td>custom</td>\n",
       "      <td>False</td>\n",
       "      <td>2019-03-22</td>\n",
       "      <td>9</td>\n",
       "      <td>4</td>\n",
       "      <td>3</td>\n",
       "      <td>2019</td>\n",
       "      <td>16</td>\n",
       "    </tr>\n",
       "    <tr>\n",
       "      <td>4</td>\n",
       "      <td>14900</td>\n",
       "      <td>2017</td>\n",
       "      <td>chrysler 200</td>\n",
       "      <td>excellent</td>\n",
       "      <td>4.0</td>\n",
       "      <td>gas</td>\n",
       "      <td>80903.0</td>\n",
       "      <td>automatic</td>\n",
       "      <td>sedan</td>\n",
       "      <td>black</td>\n",
       "      <td>False</td>\n",
       "      <td>2019-04-02</td>\n",
       "      <td>28</td>\n",
       "      <td>1</td>\n",
       "      <td>4</td>\n",
       "      <td>2019</td>\n",
       "      <td>2</td>\n",
       "    </tr>\n",
       "  </tbody>\n",
       "</table>\n",
       "</div>"
      ],
      "text/plain": [
       "   price  model_year           model  condition  cylinders fuel  odometer  \\\n",
       "0   9400        2011          bmw x5       good        6.0  gas  145000.0   \n",
       "1  25500        2013      ford f-150       good        6.0  gas   88705.0   \n",
       "2   5500        2013  hyundai sonata   like new        4.0  gas  110000.0   \n",
       "3   1500        2003      ford f-150       fair        8.0  gas  160954.0   \n",
       "4  14900        2017    chrysler 200  excellent        4.0  gas   80903.0   \n",
       "\n",
       "  transmission    type paint_color  is_4wd date_posted  days_listed  week_day  \\\n",
       "0    automatic     SUV      custom    True  2018-06-23           19         5   \n",
       "1    automatic  pickup       white    True  2018-10-19           50         4   \n",
       "2    automatic   sedan         red   False  2019-02-07           79         3   \n",
       "3    automatic  pickup      custom   False  2019-03-22            9         4   \n",
       "4    automatic   sedan       black   False  2019-04-02           28         1   \n",
       "\n",
       "   month_posted  year_posted  age_posted  \n",
       "0             6         2018           7  \n",
       "1            10         2018           5  \n",
       "2             2         2019           6  \n",
       "3             3         2019          16  \n",
       "4             4         2019           2  "
      ]
     },
     "metadata": {},
     "output_type": "display_data"
    },
    {
     "data": {
      "text/html": [
       "<div>\n",
       "<style scoped>\n",
       "    .dataframe tbody tr th:only-of-type {\n",
       "        vertical-align: middle;\n",
       "    }\n",
       "\n",
       "    .dataframe tbody tr th {\n",
       "        vertical-align: top;\n",
       "    }\n",
       "\n",
       "    .dataframe thead th {\n",
       "        text-align: right;\n",
       "    }\n",
       "</style>\n",
       "<table border=\"1\" class=\"dataframe\">\n",
       "  <thead>\n",
       "    <tr style=\"text-align: right;\">\n",
       "      <th></th>\n",
       "      <th>price</th>\n",
       "      <th>model_year</th>\n",
       "      <th>model</th>\n",
       "      <th>condition</th>\n",
       "      <th>cylinders</th>\n",
       "      <th>fuel</th>\n",
       "      <th>odometer</th>\n",
       "      <th>transmission</th>\n",
       "      <th>type</th>\n",
       "      <th>paint_color</th>\n",
       "      <th>is_4wd</th>\n",
       "      <th>date_posted</th>\n",
       "      <th>days_listed</th>\n",
       "      <th>week_day</th>\n",
       "      <th>month_posted</th>\n",
       "      <th>year_posted</th>\n",
       "      <th>age_posted</th>\n",
       "    </tr>\n",
       "  </thead>\n",
       "  <tbody>\n",
       "    <tr>\n",
       "      <td>19</td>\n",
       "      <td>13990</td>\n",
       "      <td>2018</td>\n",
       "      <td>hyundai elantra</td>\n",
       "      <td>excellent</td>\n",
       "      <td>4.0</td>\n",
       "      <td>gas</td>\n",
       "      <td>31932.0</td>\n",
       "      <td>automatic</td>\n",
       "      <td>sedan</td>\n",
       "      <td>red</td>\n",
       "      <td>False</td>\n",
       "      <td>2018-08-25</td>\n",
       "      <td>27</td>\n",
       "      <td>5</td>\n",
       "      <td>8</td>\n",
       "      <td>2018</td>\n",
       "      <td>0</td>\n",
       "    </tr>\n",
       "    <tr>\n",
       "      <td>71</td>\n",
       "      <td>23300</td>\n",
       "      <td>2018</td>\n",
       "      <td>nissan frontier crew cab sv</td>\n",
       "      <td>good</td>\n",
       "      <td>6.0</td>\n",
       "      <td>gas</td>\n",
       "      <td>27493.0</td>\n",
       "      <td>other</td>\n",
       "      <td>pickup</td>\n",
       "      <td>custom</td>\n",
       "      <td>True</td>\n",
       "      <td>2018-10-13</td>\n",
       "      <td>36</td>\n",
       "      <td>5</td>\n",
       "      <td>10</td>\n",
       "      <td>2018</td>\n",
       "      <td>0</td>\n",
       "    </tr>\n",
       "    <tr>\n",
       "      <td>78</td>\n",
       "      <td>23800</td>\n",
       "      <td>2019</td>\n",
       "      <td>nissan frontier crew cab sv</td>\n",
       "      <td>good</td>\n",
       "      <td>6.0</td>\n",
       "      <td>gas</td>\n",
       "      <td>10899.0</td>\n",
       "      <td>other</td>\n",
       "      <td>pickup</td>\n",
       "      <td>silver</td>\n",
       "      <td>True</td>\n",
       "      <td>2019-02-28</td>\n",
       "      <td>30</td>\n",
       "      <td>3</td>\n",
       "      <td>2</td>\n",
       "      <td>2019</td>\n",
       "      <td>0</td>\n",
       "    </tr>\n",
       "    <tr>\n",
       "      <td>99</td>\n",
       "      <td>39950</td>\n",
       "      <td>2018</td>\n",
       "      <td>chevrolet silverado</td>\n",
       "      <td>excellent</td>\n",
       "      <td>8.0</td>\n",
       "      <td>gas</td>\n",
       "      <td>18500.0</td>\n",
       "      <td>automatic</td>\n",
       "      <td>truck</td>\n",
       "      <td>custom</td>\n",
       "      <td>True</td>\n",
       "      <td>2018-08-05</td>\n",
       "      <td>16</td>\n",
       "      <td>6</td>\n",
       "      <td>8</td>\n",
       "      <td>2018</td>\n",
       "      <td>0</td>\n",
       "    </tr>\n",
       "    <tr>\n",
       "      <td>106</td>\n",
       "      <td>21500</td>\n",
       "      <td>2019</td>\n",
       "      <td>nissan frontier crew cab sv</td>\n",
       "      <td>good</td>\n",
       "      <td>6.0</td>\n",
       "      <td>gas</td>\n",
       "      <td>16168.0</td>\n",
       "      <td>other</td>\n",
       "      <td>pickup</td>\n",
       "      <td>white</td>\n",
       "      <td>False</td>\n",
       "      <td>2019-03-29</td>\n",
       "      <td>70</td>\n",
       "      <td>4</td>\n",
       "      <td>3</td>\n",
       "      <td>2019</td>\n",
       "      <td>0</td>\n",
       "    </tr>\n",
       "  </tbody>\n",
       "</table>\n",
       "</div>"
      ],
      "text/plain": [
       "     price  model_year                        model  condition  cylinders  \\\n",
       "19   13990        2018              hyundai elantra  excellent        4.0   \n",
       "71   23300        2018  nissan frontier crew cab sv       good        6.0   \n",
       "78   23800        2019  nissan frontier crew cab sv       good        6.0   \n",
       "99   39950        2018          chevrolet silverado  excellent        8.0   \n",
       "106  21500        2019  nissan frontier crew cab sv       good        6.0   \n",
       "\n",
       "    fuel  odometer transmission    type paint_color  is_4wd date_posted  \\\n",
       "19   gas   31932.0    automatic   sedan         red   False  2018-08-25   \n",
       "71   gas   27493.0        other  pickup      custom    True  2018-10-13   \n",
       "78   gas   10899.0        other  pickup      silver    True  2019-02-28   \n",
       "99   gas   18500.0    automatic   truck      custom    True  2018-08-05   \n",
       "106  gas   16168.0        other  pickup       white   False  2019-03-29   \n",
       "\n",
       "     days_listed  week_day  month_posted  year_posted  age_posted  \n",
       "19            27         5             8         2018           0  \n",
       "71            36         5            10         2018           0  \n",
       "78            30         3             2         2019           0  \n",
       "99            16         6             8         2018           0  \n",
       "106           70         4             3         2019           0  "
      ]
     },
     "metadata": {},
     "output_type": "display_data"
    },
    {
     "data": {
      "text/plain": [
       "0"
      ]
     },
     "metadata": {},
     "output_type": "display_data"
    }
   ],
   "source": [
    "# create a new column 'age_posted' storing the age of each vehicle\n",
    "vehicles['age_posted'] = vehicles['year_posted'] - vehicles['model_year']\n",
    "display(vehicles.head())\n",
    "\n",
    "# display vehicles with age 0\n",
    "display(vehicles[vehicles['age_posted'] == 0].head())\n",
    "\n",
    "# replace age 0 with 1\n",
    "vehicles.loc[vehicles['age_posted'] == 0, 'age_posted'] = 1\n",
    "\n",
    "# show the number of vehicles with age 0\n",
    "display(vehicles[vehicles['age_posted'] == 0].count().sum())"
   ]
  },
  {
   "cell_type": "markdown",
   "metadata": {},
   "source": [
    "##### Conclusion\n",
    "\n",
    "We decided to calculate the age of each vehicle from the manufacture year to the day they were posted for advertisement by substracting the ['model_year']() from the ['year_posted']() and saved the results in new column ['age_posted']().\n",
    "\n",
    "We noticed that there are some vehicles with age 0, this will be bad for further calculations. We assumed vehicles with age 0 were posted for advertisement the same year as their manufacture year, meaning they are at least some days old and in their first year. So we decided to replace the age 0 with 1.\n",
    "\n",
    "[<a href=\"#Table-of-Contents\">Back to top</a>]"
   ]
  },
  {
   "cell_type": "markdown",
   "metadata": {},
   "source": [
    "#### Average mileage per year"
   ]
  },
  {
   "cell_type": "code",
   "execution_count": 14,
   "metadata": {},
   "outputs": [
    {
     "data": {
      "text/html": [
       "<div>\n",
       "<style scoped>\n",
       "    .dataframe tbody tr th:only-of-type {\n",
       "        vertical-align: middle;\n",
       "    }\n",
       "\n",
       "    .dataframe tbody tr th {\n",
       "        vertical-align: top;\n",
       "    }\n",
       "\n",
       "    .dataframe thead th {\n",
       "        text-align: right;\n",
       "    }\n",
       "</style>\n",
       "<table border=\"1\" class=\"dataframe\">\n",
       "  <thead>\n",
       "    <tr style=\"text-align: right;\">\n",
       "      <th></th>\n",
       "      <th>price</th>\n",
       "      <th>model_year</th>\n",
       "      <th>model</th>\n",
       "      <th>condition</th>\n",
       "      <th>cylinders</th>\n",
       "      <th>fuel</th>\n",
       "      <th>odometer</th>\n",
       "      <th>transmission</th>\n",
       "      <th>type</th>\n",
       "      <th>paint_color</th>\n",
       "      <th>is_4wd</th>\n",
       "      <th>date_posted</th>\n",
       "      <th>days_listed</th>\n",
       "      <th>week_day</th>\n",
       "      <th>month_posted</th>\n",
       "      <th>year_posted</th>\n",
       "      <th>age_posted</th>\n",
       "      <th>avg_mileage</th>\n",
       "    </tr>\n",
       "  </thead>\n",
       "  <tbody>\n",
       "    <tr>\n",
       "      <td>0</td>\n",
       "      <td>9400</td>\n",
       "      <td>2011</td>\n",
       "      <td>bmw x5</td>\n",
       "      <td>good</td>\n",
       "      <td>6.0</td>\n",
       "      <td>gas</td>\n",
       "      <td>145000.0</td>\n",
       "      <td>automatic</td>\n",
       "      <td>SUV</td>\n",
       "      <td>custom</td>\n",
       "      <td>True</td>\n",
       "      <td>2018-06-23</td>\n",
       "      <td>19</td>\n",
       "      <td>5</td>\n",
       "      <td>6</td>\n",
       "      <td>2018</td>\n",
       "      <td>7</td>\n",
       "      <td>20714</td>\n",
       "    </tr>\n",
       "    <tr>\n",
       "      <td>1</td>\n",
       "      <td>25500</td>\n",
       "      <td>2013</td>\n",
       "      <td>ford f-150</td>\n",
       "      <td>good</td>\n",
       "      <td>6.0</td>\n",
       "      <td>gas</td>\n",
       "      <td>88705.0</td>\n",
       "      <td>automatic</td>\n",
       "      <td>pickup</td>\n",
       "      <td>white</td>\n",
       "      <td>True</td>\n",
       "      <td>2018-10-19</td>\n",
       "      <td>50</td>\n",
       "      <td>4</td>\n",
       "      <td>10</td>\n",
       "      <td>2018</td>\n",
       "      <td>5</td>\n",
       "      <td>17741</td>\n",
       "    </tr>\n",
       "    <tr>\n",
       "      <td>2</td>\n",
       "      <td>5500</td>\n",
       "      <td>2013</td>\n",
       "      <td>hyundai sonata</td>\n",
       "      <td>like new</td>\n",
       "      <td>4.0</td>\n",
       "      <td>gas</td>\n",
       "      <td>110000.0</td>\n",
       "      <td>automatic</td>\n",
       "      <td>sedan</td>\n",
       "      <td>red</td>\n",
       "      <td>False</td>\n",
       "      <td>2019-02-07</td>\n",
       "      <td>79</td>\n",
       "      <td>3</td>\n",
       "      <td>2</td>\n",
       "      <td>2019</td>\n",
       "      <td>6</td>\n",
       "      <td>18333</td>\n",
       "    </tr>\n",
       "    <tr>\n",
       "      <td>3</td>\n",
       "      <td>1500</td>\n",
       "      <td>2003</td>\n",
       "      <td>ford f-150</td>\n",
       "      <td>fair</td>\n",
       "      <td>8.0</td>\n",
       "      <td>gas</td>\n",
       "      <td>160954.0</td>\n",
       "      <td>automatic</td>\n",
       "      <td>pickup</td>\n",
       "      <td>custom</td>\n",
       "      <td>False</td>\n",
       "      <td>2019-03-22</td>\n",
       "      <td>9</td>\n",
       "      <td>4</td>\n",
       "      <td>3</td>\n",
       "      <td>2019</td>\n",
       "      <td>16</td>\n",
       "      <td>10059</td>\n",
       "    </tr>\n",
       "    <tr>\n",
       "      <td>4</td>\n",
       "      <td>14900</td>\n",
       "      <td>2017</td>\n",
       "      <td>chrysler 200</td>\n",
       "      <td>excellent</td>\n",
       "      <td>4.0</td>\n",
       "      <td>gas</td>\n",
       "      <td>80903.0</td>\n",
       "      <td>automatic</td>\n",
       "      <td>sedan</td>\n",
       "      <td>black</td>\n",
       "      <td>False</td>\n",
       "      <td>2019-04-02</td>\n",
       "      <td>28</td>\n",
       "      <td>1</td>\n",
       "      <td>4</td>\n",
       "      <td>2019</td>\n",
       "      <td>2</td>\n",
       "      <td>40451</td>\n",
       "    </tr>\n",
       "  </tbody>\n",
       "</table>\n",
       "</div>"
      ],
      "text/plain": [
       "   price  model_year           model  condition  cylinders fuel  odometer  \\\n",
       "0   9400        2011          bmw x5       good        6.0  gas  145000.0   \n",
       "1  25500        2013      ford f-150       good        6.0  gas   88705.0   \n",
       "2   5500        2013  hyundai sonata   like new        4.0  gas  110000.0   \n",
       "3   1500        2003      ford f-150       fair        8.0  gas  160954.0   \n",
       "4  14900        2017    chrysler 200  excellent        4.0  gas   80903.0   \n",
       "\n",
       "  transmission    type paint_color  is_4wd date_posted  days_listed  week_day  \\\n",
       "0    automatic     SUV      custom    True  2018-06-23           19         5   \n",
       "1    automatic  pickup       white    True  2018-10-19           50         4   \n",
       "2    automatic   sedan         red   False  2019-02-07           79         3   \n",
       "3    automatic  pickup      custom   False  2019-03-22            9         4   \n",
       "4    automatic   sedan       black   False  2019-04-02           28         1   \n",
       "\n",
       "   month_posted  year_posted  age_posted  avg_mileage  \n",
       "0             6         2018           7        20714  \n",
       "1            10         2018           5        17741  \n",
       "2             2         2019           6        18333  \n",
       "3             3         2019          16        10059  \n",
       "4             4         2019           2        40451  "
      ]
     },
     "metadata": {},
     "output_type": "display_data"
    }
   ],
   "source": [
    "# create a new column 'avg_mileage' storing the mileage of vehicles\n",
    "vehicles['avg_mileage'] = vehicles['odometer'] / vehicles['age_posted']\n",
    "\n",
    "# change the data type of column 'avg_mileage' to integer\n",
    "vehicles['avg_mileage'] = vehicles['avg_mileage'].astype('int')\n",
    "\n",
    "# display the first five rows of the dataset\n",
    "display(vehicles.head())"
   ]
  },
  {
   "cell_type": "markdown",
   "metadata": {},
   "source": [
    "##### Conclusion\n",
    "\n",
    "We calculated the average mileage for each vehicle by dividing the odometer of the vehicles by the age of veheicles as of the day they were posted for advertisement, and save the results in a new column ['avg_mileage'](). We decided to change the data type of the new column from floating point to integer. \n",
    "\n",
    "[<a href=\"#Table-of-Contents\">Back to top</a>]"
   ]
  },
  {
   "cell_type": "markdown",
   "metadata": {},
   "source": [
    "##### CONDITION"
   ]
  },
  {
   "cell_type": "code",
   "execution_count": 15,
   "metadata": {},
   "outputs": [
    {
     "data": {
      "text/html": [
       "<div>\n",
       "<style scoped>\n",
       "    .dataframe tbody tr th:only-of-type {\n",
       "        vertical-align: middle;\n",
       "    }\n",
       "\n",
       "    .dataframe tbody tr th {\n",
       "        vertical-align: top;\n",
       "    }\n",
       "\n",
       "    .dataframe thead th {\n",
       "        text-align: right;\n",
       "    }\n",
       "</style>\n",
       "<table border=\"1\" class=\"dataframe\">\n",
       "  <thead>\n",
       "    <tr style=\"text-align: right;\">\n",
       "      <th></th>\n",
       "      <th>price</th>\n",
       "      <th>model_year</th>\n",
       "      <th>model</th>\n",
       "      <th>condition</th>\n",
       "      <th>cylinders</th>\n",
       "      <th>fuel</th>\n",
       "      <th>odometer</th>\n",
       "      <th>transmission</th>\n",
       "      <th>type</th>\n",
       "      <th>paint_color</th>\n",
       "      <th>is_4wd</th>\n",
       "      <th>date_posted</th>\n",
       "      <th>days_listed</th>\n",
       "      <th>week_day</th>\n",
       "      <th>month_posted</th>\n",
       "      <th>year_posted</th>\n",
       "      <th>age_posted</th>\n",
       "      <th>avg_mileage</th>\n",
       "    </tr>\n",
       "  </thead>\n",
       "  <tbody>\n",
       "    <tr>\n",
       "      <td>0</td>\n",
       "      <td>9400</td>\n",
       "      <td>2011</td>\n",
       "      <td>bmw x5</td>\n",
       "      <td>2</td>\n",
       "      <td>6.0</td>\n",
       "      <td>gas</td>\n",
       "      <td>145000.0</td>\n",
       "      <td>automatic</td>\n",
       "      <td>SUV</td>\n",
       "      <td>custom</td>\n",
       "      <td>True</td>\n",
       "      <td>2018-06-23</td>\n",
       "      <td>19</td>\n",
       "      <td>5</td>\n",
       "      <td>6</td>\n",
       "      <td>2018</td>\n",
       "      <td>7</td>\n",
       "      <td>20714</td>\n",
       "    </tr>\n",
       "    <tr>\n",
       "      <td>1</td>\n",
       "      <td>25500</td>\n",
       "      <td>2013</td>\n",
       "      <td>ford f-150</td>\n",
       "      <td>2</td>\n",
       "      <td>6.0</td>\n",
       "      <td>gas</td>\n",
       "      <td>88705.0</td>\n",
       "      <td>automatic</td>\n",
       "      <td>pickup</td>\n",
       "      <td>white</td>\n",
       "      <td>True</td>\n",
       "      <td>2018-10-19</td>\n",
       "      <td>50</td>\n",
       "      <td>4</td>\n",
       "      <td>10</td>\n",
       "      <td>2018</td>\n",
       "      <td>5</td>\n",
       "      <td>17741</td>\n",
       "    </tr>\n",
       "    <tr>\n",
       "      <td>2</td>\n",
       "      <td>5500</td>\n",
       "      <td>2013</td>\n",
       "      <td>hyundai sonata</td>\n",
       "      <td>4</td>\n",
       "      <td>4.0</td>\n",
       "      <td>gas</td>\n",
       "      <td>110000.0</td>\n",
       "      <td>automatic</td>\n",
       "      <td>sedan</td>\n",
       "      <td>red</td>\n",
       "      <td>False</td>\n",
       "      <td>2019-02-07</td>\n",
       "      <td>79</td>\n",
       "      <td>3</td>\n",
       "      <td>2</td>\n",
       "      <td>2019</td>\n",
       "      <td>6</td>\n",
       "      <td>18333</td>\n",
       "    </tr>\n",
       "    <tr>\n",
       "      <td>3</td>\n",
       "      <td>1500</td>\n",
       "      <td>2003</td>\n",
       "      <td>ford f-150</td>\n",
       "      <td>1</td>\n",
       "      <td>8.0</td>\n",
       "      <td>gas</td>\n",
       "      <td>160954.0</td>\n",
       "      <td>automatic</td>\n",
       "      <td>pickup</td>\n",
       "      <td>custom</td>\n",
       "      <td>False</td>\n",
       "      <td>2019-03-22</td>\n",
       "      <td>9</td>\n",
       "      <td>4</td>\n",
       "      <td>3</td>\n",
       "      <td>2019</td>\n",
       "      <td>16</td>\n",
       "      <td>10059</td>\n",
       "    </tr>\n",
       "    <tr>\n",
       "      <td>4</td>\n",
       "      <td>14900</td>\n",
       "      <td>2017</td>\n",
       "      <td>chrysler 200</td>\n",
       "      <td>3</td>\n",
       "      <td>4.0</td>\n",
       "      <td>gas</td>\n",
       "      <td>80903.0</td>\n",
       "      <td>automatic</td>\n",
       "      <td>sedan</td>\n",
       "      <td>black</td>\n",
       "      <td>False</td>\n",
       "      <td>2019-04-02</td>\n",
       "      <td>28</td>\n",
       "      <td>1</td>\n",
       "      <td>4</td>\n",
       "      <td>2019</td>\n",
       "      <td>2</td>\n",
       "      <td>40451</td>\n",
       "    </tr>\n",
       "  </tbody>\n",
       "</table>\n",
       "</div>"
      ],
      "text/plain": [
       "   price  model_year           model  condition  cylinders fuel  odometer  \\\n",
       "0   9400        2011          bmw x5          2        6.0  gas  145000.0   \n",
       "1  25500        2013      ford f-150          2        6.0  gas   88705.0   \n",
       "2   5500        2013  hyundai sonata          4        4.0  gas  110000.0   \n",
       "3   1500        2003      ford f-150          1        8.0  gas  160954.0   \n",
       "4  14900        2017    chrysler 200          3        4.0  gas   80903.0   \n",
       "\n",
       "  transmission    type paint_color  is_4wd date_posted  days_listed  week_day  \\\n",
       "0    automatic     SUV      custom    True  2018-06-23           19         5   \n",
       "1    automatic  pickup       white    True  2018-10-19           50         4   \n",
       "2    automatic   sedan         red   False  2019-02-07           79         3   \n",
       "3    automatic  pickup      custom   False  2019-03-22            9         4   \n",
       "4    automatic   sedan       black   False  2019-04-02           28         1   \n",
       "\n",
       "   month_posted  year_posted  age_posted  avg_mileage  \n",
       "0             6         2018           7        20714  \n",
       "1            10         2018           5        17741  \n",
       "2             2         2019           6        18333  \n",
       "3             3         2019          16        10059  \n",
       "4             4         2019           2        40451  "
      ]
     },
     "metadata": {},
     "output_type": "display_data"
    }
   ],
   "source": [
    "# create a function to replace string values to numeric scale\n",
    "def condition_status(condition):\n",
    "    \"\"\"\n",
    "    The function returns the condition status according to the condition value, using the following rules:\n",
    "    — 5 for condition == 'new'\n",
    "    — 4 for condition == 'like new'\n",
    "    — 3 for condition == 'excellent'\n",
    "    — 2 for condition == 'good'\n",
    "    — 1 for condition == 'fair'\n",
    "    — 0 for condition == 'salvage'\n",
    "    \"\"\"\n",
    "    \n",
    "    if condition == 'new':\n",
    "        return 5\n",
    "    if condition == 'like new':\n",
    "        return 4\n",
    "    if condition == 'excellent':\n",
    "        return 3\n",
    "    if condition == 'good':\n",
    "        return 2\n",
    "    if condition == 'fair':\n",
    "        return 1\n",
    "    return 0 \n",
    "\n",
    "# apply the condition_status function to the 'condition' column\n",
    "vehicles['condition'] = vehicles['condition'].apply(condition_status)\n",
    "\n",
    "# display the first five rows of the dataset\n",
    "display(vehicles.head())\n"
   ]
  },
  {
   "cell_type": "markdown",
   "metadata": {},
   "source": [
    "##### Conclusion\n",
    "\n",
    "We created a function [condition_status]() with one parameter to replace the string values in column ['condition']() with numeric values. We then applied the function to the ['condition']() column by using the [.apply()]() method.\n",
    "\n",
    "[<a href=\"#Table-of-Contents\">Back to top</a>]"
   ]
  },
  {
   "cell_type": "markdown",
   "metadata": {},
   "source": [
    "### Step 4. Carry out exploratory data analysis"
   ]
  },
  {
   "cell_type": "markdown",
   "metadata": {},
   "source": [
    "#### Study parameters\n",
    "\n",
    "The parameters to study are price, vehicle's age when the ad was placed, mileage, number of cylinders, and condition. \n",
    "\n",
    "First, we will start by displaying the statistics of each parameter using the [.describe()]() method.\n",
    "\n",
    "We will then use histogram to plot each parameter against the number of vehicles, using the minimum and maximum values of each parameter to determine the range of the horizontal axes."
   ]
  },
  {
   "cell_type": "markdown",
   "metadata": {},
   "source": [
    "##### PRICE"
   ]
  },
  {
   "cell_type": "code",
   "execution_count": 16,
   "metadata": {},
   "outputs": [
    {
     "data": {
      "text/plain": [
       "count     51524.00000\n",
       "mean      12132.35104\n",
       "std       10040.86718\n",
       "min           1.00000\n",
       "25%        5000.00000\n",
       "50%        9000.00000\n",
       "75%       16836.00000\n",
       "max      375000.00000\n",
       "Name: price, dtype: float64"
      ]
     },
     "metadata": {},
     "output_type": "display_data"
    },
    {
     "data": {
      "text/plain": [
       "Text(0, 0.5, 'Number of vehicles')"
      ]
     },
     "execution_count": 16,
     "metadata": {},
     "output_type": "execute_result"
    },
    {
     "data": {
      "image/png": "[encoded data removed]",
      "text/plain": [
       "<Figure size 432x288 with 1 Axes>"
      ]
     },
     "metadata": {
      "needs_background": "light"
     },
     "output_type": "display_data"
    }
   ],
   "source": [
    "# display the statistics of the column\n",
    "display(vehicles['price'].describe())\n",
    "\n",
    "# plot histogram for column 'price'\n",
    "vehicles.hist('price', bins=100, range=(0, 300000))\n",
    "plt.title(\"Vehicles' Price\")\n",
    "plt.xlabel('Price')\n",
    "plt.ylabel('Number of vehicles')\n"
   ]
  },
  {
   "cell_type": "markdown",
   "metadata": {},
   "source": [
    "##### Conclusion\n",
    "\n",
    "From the histogram, it is diffult for us to precise with the price with the most frequency. What we can conclude is that majority of the prices lie between 0 to 50000, and there are outliers somewhere above 50000. It is wierd to have some vehicles cost 0 as they are too much to be considered outliers. Is it that we have more vehicles in salvage condition in our dataframe?\n",
    "\n",
    "[<a href=\"#Table-of-Contents\">Back to top</a>]"
   ]
  },
  {
   "cell_type": "markdown",
   "metadata": {},
   "source": [
    "##### AGE_POSTED"
   ]
  },
  {
   "cell_type": "code",
   "execution_count": 17,
   "metadata": {},
   "outputs": [
    {
     "data": {
      "text/plain": [
       "count    51524.000000\n",
       "mean         8.473294\n",
       "std          6.060487\n",
       "min          1.000000\n",
       "25%          4.000000\n",
       "50%          7.000000\n",
       "75%         12.000000\n",
       "max         82.000000\n",
       "Name: age_posted, dtype: float64"
      ]
     },
     "metadata": {},
     "output_type": "display_data"
    },
    {
     "data": {
      "text/plain": [
       "Text(0, 0.5, 'Number of vehicles')"
      ]
     },
     "execution_count": 17,
     "metadata": {},
     "output_type": "execute_result"
    },
    {
     "data": {
      "image/png": "[encoded data removed]",
      "text/plain": [
       "<Figure size 432x288 with 1 Axes>"
      ]
     },
     "metadata": {
      "needs_background": "light"
     },
     "output_type": "display_data"
    }
   ],
   "source": [
    "# display the statistics of the column\n",
    "display(vehicles['age_posted'].describe())\n",
    "\n",
    "# plot histogram for column 'age_posted'\n",
    "vehicles.hist('age_posted', bins=100, range=(0, 90))\n",
    "plt.title(\"Vehicles' Age\")\n",
    "plt.xlabel('Age')\n",
    "plt.ylabel('Number of vehicles')"
   ]
  },
  {
   "cell_type": "markdown",
   "metadata": {},
   "source": [
    "##### Conclusion\n",
    "\n",
    "There is a peak of age between 0 and 20, and we will say it is difficult to determine the outliers as there are some spaces in between the bars.\n",
    "\n",
    "[<a href=\"#Table-of-Contents\">Back to top</a>]"
   ]
  },
  {
   "cell_type": "markdown",
   "metadata": {},
   "source": [
    "##### AVG_MILEAGE"
   ]
  },
  {
   "cell_type": "code",
   "execution_count": 18,
   "metadata": {},
   "outputs": [
    {
     "data": {
      "text/plain": [
       "count     51524.000000\n",
       "mean      18184.916039\n",
       "std       13256.597239\n",
       "min           0.000000\n",
       "25%       10918.000000\n",
       "50%       15361.500000\n",
       "75%       21500.000000\n",
       "max      373200.000000\n",
       "Name: avg_mileage, dtype: float64"
      ]
     },
     "metadata": {},
     "output_type": "display_data"
    },
    {
     "data": {
      "text/plain": [
       "Text(0, 0.5, 'Number of vehicles')"
      ]
     },
     "execution_count": 18,
     "metadata": {},
     "output_type": "execute_result"
    },
    {
     "data": {
      "image/png": "[encoded data removed]",
      "text/plain": [
       "<Figure size 432x288 with 1 Axes>"
      ]
     },
     "metadata": {
      "needs_background": "light"
     },
     "output_type": "display_data"
    }
   ],
   "source": [
    "# display the statistics of the column\n",
    "display(vehicles['avg_mileage'].describe())\n",
    "\n",
    "# plot histogram for column 'avg_mileage'\n",
    "vehicles.hist('avg_mileage', bins=100, range=(0, 200000))\n",
    "plt.title(\"Vehicles' Mileage\")\n",
    "plt.xlabel('Mileage')\n",
    "plt.ylabel('Number of vehicles')"
   ]
  },
  {
   "cell_type": "markdown",
   "metadata": {},
   "source": [
    "##### Conclusion\n",
    "\n",
    "Majority of the vehicles have average mileage between 0 and 25000, and we can conclude that the starting point of the outliers is between 100000 and 125000. \n",
    "\n",
    "[<a href=\"#Table-of-Contents\">Back to top</a>]"
   ]
  },
  {
   "cell_type": "markdown",
   "metadata": {},
   "source": [
    "##### CYLINDERS"
   ]
  },
  {
   "cell_type": "code",
   "execution_count": 19,
   "metadata": {},
   "outputs": [
    {
     "data": {
      "text/plain": [
       "count    51524.000000\n",
       "mean         6.121031\n",
       "std          1.657452\n",
       "min          3.000000\n",
       "25%          4.000000\n",
       "50%          6.000000\n",
       "75%          8.000000\n",
       "max         12.000000\n",
       "Name: cylinders, dtype: float64"
      ]
     },
     "metadata": {},
     "output_type": "display_data"
    },
    {
     "data": {
      "text/plain": [
       "Text(0, 0.5, 'Number of vehicles')"
      ]
     },
     "execution_count": 19,
     "metadata": {},
     "output_type": "execute_result"
    },
    {
     "data": {
      "image/png": "[encoded data removed]",
      "text/plain": [
       "<Figure size 432x288 with 1 Axes>"
      ]
     },
     "metadata": {
      "needs_background": "light"
     },
     "output_type": "display_data"
    }
   ],
   "source": [
    "# display the statistics of the column\n",
    "display(vehicles['cylinders'].describe())\n",
    "\n",
    "# plot histogram for column 'cylinders'\n",
    "vehicles.hist('cylinders', bins=100, range=(0, 13))\n",
    "plt.title(\"Vehicles' Cylinder\")\n",
    "plt.xlabel('Cylinder')\n",
    "plt.ylabel('Number of vehicles')"
   ]
  },
  {
   "cell_type": "markdown",
   "metadata": {},
   "source": [
    "##### Conclusion\n",
    "\n",
    "Vehicles with 4, 6, and 8 cylinders are the most common with over 15000 vehicles under each. There are barely other categories of the cylinders in our dataset.   \n",
    "\n",
    "[<a href=\"#Table-of-Contents\">Back to top</a>]"
   ]
  },
  {
   "cell_type": "markdown",
   "metadata": {},
   "source": [
    "##### CONDITION"
   ]
  },
  {
   "cell_type": "code",
   "execution_count": 20,
   "metadata": {},
   "outputs": [
    {
     "data": {
      "text/plain": [
       "count    51524.000000\n",
       "mean         2.637548\n",
       "std          0.712449\n",
       "min          0.000000\n",
       "25%          2.000000\n",
       "50%          3.000000\n",
       "75%          3.000000\n",
       "max          5.000000\n",
       "Name: condition, dtype: float64"
      ]
     },
     "metadata": {},
     "output_type": "display_data"
    },
    {
     "data": {
      "text/plain": [
       "Text(0, 0.5, 'Number of vehicles')"
      ]
     },
     "execution_count": 20,
     "metadata": {},
     "output_type": "execute_result"
    },
    {
     "data": {
      "image/png": "[encoded data removed]",
      "text/plain": [
       "<Figure size 432x288 with 1 Axes>"
      ]
     },
     "metadata": {
      "needs_background": "light"
     },
     "output_type": "display_data"
    }
   ],
   "source": [
    "# display the statistics of the column\n",
    "display(vehicles['condition'].describe())\n",
    "\n",
    "# plot histogram for column 'condition'\n",
    "vehicles.hist('condition', bins=30, range=(0, 6))\n",
    "plt.title(\"Vehicles' Condition\")\n",
    "plt.xlabel('Condition')\n",
    "plt.ylabel('Number of vehicles')"
   ]
  },
  {
   "cell_type": "markdown",
   "metadata": {},
   "source": [
    "##### Conclusion\n",
    "\n",
    "Most of the vehicles are in excellent and good condition with more than half of the whole vehicles falling in this category. We barely have new vehicles in our dataframe.\n",
    "\n",
    "[<a href=\"#Table-of-Contents\">Back to top</a>]"
   ]
  },
  {
   "cell_type": "markdown",
   "metadata": {},
   "source": [
    "#### Determine upper limits of outliers\n",
    "\n",
    "We decided to determine the upper limits of outliers for just three parameters (['price'](), ['age_posted'](), and ['avg_mileage']()) out of the five because they are the quantitative variables.\n",
    "\n",
    "We will first calculate both the first quartile (Q1) and third quartile (Q3) for each parameters by using the [.quantile()]() method, and then calculate the interquartile range by substracting Q3 from Q1.\n",
    "\n",
    "The next step is to determine the range of the axes, draw a boxplot for each parameters using the [.boxplot()]() method, and indicate where the upper limit of outliers begin with a red line."
   ]
  },
  {
   "cell_type": "markdown",
   "metadata": {},
   "source": [
    "##### PRICE"
   ]
  },
  {
   "cell_type": "code",
   "execution_count": 21,
   "metadata": {},
   "outputs": [
    {
     "data": {
      "image/png": "[encoded data removed]",
      "text/plain": [
       "<Figure size 432x288 with 1 Axes>"
      ]
     },
     "metadata": {
      "needs_background": "light"
     },
     "output_type": "display_data"
    }
   ],
   "source": [
    "# calculate the quartiles for column 'price'\n",
    "Q1_price = vehicles['price'].quantile(0.25)\n",
    "Q3_price = vehicles['price'].quantile(0.75)\n",
    "IQR_price = Q3_price - Q1_price\n",
    "\n",
    "# specify the range of y axis and title of the boxplot \n",
    "plt.ylim(-10, 60000)\n",
    "plt.title(\"Vehicles' Price\")\n",
    "\n",
    "# plot the boxplot\n",
    "vehicles.boxplot('price')\n",
    "plt.hlines(y=Q3_price+1.5*IQR_price, xmin=0.9, xmax=1.1, color='red')\n",
    "plt.show()"
   ]
  },
  {
   "cell_type": "markdown",
   "metadata": {},
   "source": [
    "##### Conclusion\n",
    "\n",
    "The upper whisker ends where the price is at 35000, which is 1.5 IQR above the third quartile. Everything above it can be considered an outlier.\n",
    "\n",
    "[<a href=\"#Table-of-Contents\">Back to top</a>]"
   ]
  },
  {
   "cell_type": "markdown",
   "metadata": {},
   "source": [
    "##### AGE_POSTED"
   ]
  },
  {
   "cell_type": "code",
   "execution_count": 22,
   "metadata": {},
   "outputs": [
    {
     "data": {
      "image/png": "[encoded data removed]",
      "text/plain": [
       "<Figure size 432x288 with 1 Axes>"
      ]
     },
     "metadata": {
      "needs_background": "light"
     },
     "output_type": "display_data"
    }
   ],
   "source": [
    "# calculate the quartiles for column 'age_posted'\n",
    "Q1_age_posted = vehicles['age_posted'].quantile(0.25)\n",
    "Q3_age_posted = vehicles['age_posted'].quantile(0.75)\n",
    "IQR_age_posted = Q3_age_posted - Q1_age_posted\n",
    "\n",
    "# title of the chart \n",
    "plt.title(\"Vehicles' Age\")\n",
    "\n",
    "# plot the boxplot\n",
    "vehicles.boxplot('age_posted')\n",
    "plt.hlines(y=Q3_age_posted+1.5*IQR_age_posted, xmin=0.9, xmax=1.1, color='red')\n",
    "plt.show()"
   ]
  },
  {
   "cell_type": "markdown",
   "metadata": {},
   "source": [
    "##### Conclusion\n",
    "\n",
    "The upper limit of the age of the vehicles as at the day of advertisement is at 25. All other vehicles with age more than 25 will be considered outliers.\n",
    "\n",
    "[<a href=\"#Table-of-Contents\">Back to top</a>]"
   ]
  },
  {
   "cell_type": "markdown",
   "metadata": {},
   "source": [
    "##### AVG_MILEAGE"
   ]
  },
  {
   "cell_type": "code",
   "execution_count": 23,
   "metadata": {},
   "outputs": [
    {
     "data": {
      "image/png": "[encoded data removed]",
      "text/plain": [
       "<Figure size 432x288 with 1 Axes>"
      ]
     },
     "metadata": {
      "needs_background": "light"
     },
     "output_type": "display_data"
    }
   ],
   "source": [
    "# calculate the quartiles for column 'avg_mileage'\n",
    "Q1_avg_mileage = vehicles['avg_mileage'].quantile(0.25)\n",
    "Q3_avg_mileage = vehicles['avg_mileage'].quantile(0.75)\n",
    "IQR_avg_mileage = Q3_avg_mileage - Q1_avg_mileage\n",
    "\n",
    "# specify the range of y axis\n",
    "plt.ylim(-10, 50000)\n",
    "\n",
    "# title of the chart \n",
    "plt.title(\"Vehicles' Mileage\")\n",
    "\n",
    "# plot the boxplot\n",
    "vehicles.boxplot('avg_mileage')\n",
    "plt.hlines(y=Q3_avg_mileage+1.5*IQR_avg_mileage, xmin=0.9, xmax=1.1, color='red')\n",
    "plt.show()"
   ]
  },
  {
   "cell_type": "markdown",
   "metadata": {},
   "source": [
    "##### Conclusion\n",
    "\n",
    "With the red line placed at about 38000, we will consider all other vehicles with average of more than 38000 as outliers.\n",
    "\n",
    "[<a href=\"#Table-of-Contents\">Back to top</a>]"
   ]
  },
  {
   "cell_type": "markdown",
   "metadata": {},
   "source": [
    "#### Filter and remove outliers"
   ]
  },
  {
   "cell_type": "code",
   "execution_count": 24,
   "metadata": {},
   "outputs": [
    {
     "name": "stdout",
     "output_type": "stream",
     "text": [
      "<class 'pandas.core.frame.DataFrame'>\n",
      "Int64Index: 46511 entries, 0 to 51524\n",
      "Data columns (total 18 columns):\n",
      "price           46511 non-null int64\n",
      "model_year      46511 non-null int64\n",
      "model           46511 non-null object\n",
      "condition       46511 non-null int64\n",
      "cylinders       46511 non-null float64\n",
      "fuel            46511 non-null object\n",
      "odometer        46511 non-null float64\n",
      "transmission    46511 non-null object\n",
      "type            46511 non-null object\n",
      "paint_color     46511 non-null object\n",
      "is_4wd          46511 non-null bool\n",
      "date_posted     46511 non-null datetime64[ns]\n",
      "days_listed     46511 non-null int64\n",
      "week_day        46511 non-null int64\n",
      "month_posted    46511 non-null int64\n",
      "year_posted     46511 non-null int64\n",
      "age_posted      46511 non-null int64\n",
      "avg_mileage     46511 non-null int64\n",
      "dtypes: bool(1), datetime64[ns](1), float64(2), int64(9), object(5)\n",
      "memory usage: 6.4+ MB\n"
     ]
    },
    {
     "data": {
      "text/plain": [
       "None"
      ]
     },
     "metadata": {},
     "output_type": "display_data"
    },
    {
     "data": {
      "text/html": [
       "<div>\n",
       "<style scoped>\n",
       "    .dataframe tbody tr th:only-of-type {\n",
       "        vertical-align: middle;\n",
       "    }\n",
       "\n",
       "    .dataframe tbody tr th {\n",
       "        vertical-align: top;\n",
       "    }\n",
       "\n",
       "    .dataframe thead th {\n",
       "        text-align: right;\n",
       "    }\n",
       "</style>\n",
       "<table border=\"1\" class=\"dataframe\">\n",
       "  <thead>\n",
       "    <tr style=\"text-align: right;\">\n",
       "      <th></th>\n",
       "      <th>price</th>\n",
       "      <th>model_year</th>\n",
       "      <th>model</th>\n",
       "      <th>condition</th>\n",
       "      <th>cylinders</th>\n",
       "      <th>fuel</th>\n",
       "      <th>odometer</th>\n",
       "      <th>transmission</th>\n",
       "      <th>type</th>\n",
       "      <th>paint_color</th>\n",
       "      <th>is_4wd</th>\n",
       "      <th>date_posted</th>\n",
       "      <th>days_listed</th>\n",
       "      <th>week_day</th>\n",
       "      <th>month_posted</th>\n",
       "      <th>year_posted</th>\n",
       "      <th>age_posted</th>\n",
       "      <th>avg_mileage</th>\n",
       "    </tr>\n",
       "  </thead>\n",
       "  <tbody>\n",
       "    <tr>\n",
       "      <td>0</td>\n",
       "      <td>9400</td>\n",
       "      <td>2011</td>\n",
       "      <td>bmw x5</td>\n",
       "      <td>2</td>\n",
       "      <td>6.0</td>\n",
       "      <td>gas</td>\n",
       "      <td>145000.0</td>\n",
       "      <td>automatic</td>\n",
       "      <td>SUV</td>\n",
       "      <td>custom</td>\n",
       "      <td>True</td>\n",
       "      <td>2018-06-23</td>\n",
       "      <td>19</td>\n",
       "      <td>5</td>\n",
       "      <td>6</td>\n",
       "      <td>2018</td>\n",
       "      <td>7</td>\n",
       "      <td>20714</td>\n",
       "    </tr>\n",
       "    <tr>\n",
       "      <td>1</td>\n",
       "      <td>25500</td>\n",
       "      <td>2013</td>\n",
       "      <td>ford f-150</td>\n",
       "      <td>2</td>\n",
       "      <td>6.0</td>\n",
       "      <td>gas</td>\n",
       "      <td>88705.0</td>\n",
       "      <td>automatic</td>\n",
       "      <td>pickup</td>\n",
       "      <td>white</td>\n",
       "      <td>True</td>\n",
       "      <td>2018-10-19</td>\n",
       "      <td>50</td>\n",
       "      <td>4</td>\n",
       "      <td>10</td>\n",
       "      <td>2018</td>\n",
       "      <td>5</td>\n",
       "      <td>17741</td>\n",
       "    </tr>\n",
       "    <tr>\n",
       "      <td>2</td>\n",
       "      <td>5500</td>\n",
       "      <td>2013</td>\n",
       "      <td>hyundai sonata</td>\n",
       "      <td>4</td>\n",
       "      <td>4.0</td>\n",
       "      <td>gas</td>\n",
       "      <td>110000.0</td>\n",
       "      <td>automatic</td>\n",
       "      <td>sedan</td>\n",
       "      <td>red</td>\n",
       "      <td>False</td>\n",
       "      <td>2019-02-07</td>\n",
       "      <td>79</td>\n",
       "      <td>3</td>\n",
       "      <td>2</td>\n",
       "      <td>2019</td>\n",
       "      <td>6</td>\n",
       "      <td>18333</td>\n",
       "    </tr>\n",
       "    <tr>\n",
       "      <td>3</td>\n",
       "      <td>1500</td>\n",
       "      <td>2003</td>\n",
       "      <td>ford f-150</td>\n",
       "      <td>1</td>\n",
       "      <td>8.0</td>\n",
       "      <td>gas</td>\n",
       "      <td>160954.0</td>\n",
       "      <td>automatic</td>\n",
       "      <td>pickup</td>\n",
       "      <td>custom</td>\n",
       "      <td>False</td>\n",
       "      <td>2019-03-22</td>\n",
       "      <td>9</td>\n",
       "      <td>4</td>\n",
       "      <td>3</td>\n",
       "      <td>2019</td>\n",
       "      <td>16</td>\n",
       "      <td>10059</td>\n",
       "    </tr>\n",
       "    <tr>\n",
       "      <td>5</td>\n",
       "      <td>14990</td>\n",
       "      <td>2014</td>\n",
       "      <td>chrysler 300</td>\n",
       "      <td>3</td>\n",
       "      <td>6.0</td>\n",
       "      <td>gas</td>\n",
       "      <td>57954.0</td>\n",
       "      <td>automatic</td>\n",
       "      <td>sedan</td>\n",
       "      <td>black</td>\n",
       "      <td>True</td>\n",
       "      <td>2018-06-20</td>\n",
       "      <td>15</td>\n",
       "      <td>2</td>\n",
       "      <td>6</td>\n",
       "      <td>2018</td>\n",
       "      <td>4</td>\n",
       "      <td>14488</td>\n",
       "    </tr>\n",
       "  </tbody>\n",
       "</table>\n",
       "</div>"
      ],
      "text/plain": [
       "   price  model_year           model  condition  cylinders fuel  odometer  \\\n",
       "0   9400        2011          bmw x5          2        6.0  gas  145000.0   \n",
       "1  25500        2013      ford f-150          2        6.0  gas   88705.0   \n",
       "2   5500        2013  hyundai sonata          4        4.0  gas  110000.0   \n",
       "3   1500        2003      ford f-150          1        8.0  gas  160954.0   \n",
       "5  14990        2014    chrysler 300          3        6.0  gas   57954.0   \n",
       "\n",
       "  transmission    type paint_color  is_4wd date_posted  days_listed  week_day  \\\n",
       "0    automatic     SUV      custom    True  2018-06-23           19         5   \n",
       "1    automatic  pickup       white    True  2018-10-19           50         4   \n",
       "2    automatic   sedan         red   False  2019-02-07           79         3   \n",
       "3    automatic  pickup      custom   False  2019-03-22            9         4   \n",
       "5    automatic   sedan       black    True  2018-06-20           15         2   \n",
       "\n",
       "   month_posted  year_posted  age_posted  avg_mileage  \n",
       "0             6         2018           7        20714  \n",
       "1            10         2018           5        17741  \n",
       "2             2         2019           6        18333  \n",
       "3             3         2019          16        10059  \n",
       "5             6         2018           4        14488  "
      ]
     },
     "metadata": {},
     "output_type": "display_data"
    }
   ],
   "source": [
    "# create a new dataframe witouth the outliers\n",
    "filtered_vehicles = vehicles.query('price <= 35000 and age_posted <= 25 and avg_mileage <= 38000')\n",
    "\n",
    "# display the size of the dataset\n",
    "display(filtered_vehicles.info())\n",
    "\n",
    "# display the first five rows of the dataset\n",
    "display(filtered_vehicles.head())"
   ]
  },
  {
   "cell_type": "markdown",
   "metadata": {},
   "source": [
    "##### Conclusion\n",
    "\n",
    "We decided to filter out the outliers from the dataframe and store it in a new dataframe. Now we have 46511 rows in our new dataset with 18 columns.\n",
    "\n",
    "[<a href=\"#Table-of-Contents\">Back to top</a>]"
   ]
  },
  {
   "cell_type": "markdown",
   "metadata": {},
   "source": [
    "#### Compare histograms\n",
    "\n",
    "We decided to plot histograms for the parameters from the filtered dataset (without outliers) and compare them with the histograms previously plotted from the initial dataset (with outliers)."
   ]
  },
  {
   "cell_type": "markdown",
   "metadata": {},
   "source": [
    "##### PRICE"
   ]
  },
  {
   "cell_type": "code",
   "execution_count": 25,
   "metadata": {},
   "outputs": [
    {
     "data": {
      "image/png": "[encoded data removed]",
      "text/plain": [
       "<Figure size 432x288 with 1 Axes>"
      ]
     },
     "metadata": {
      "needs_background": "light"
     },
     "output_type": "display_data"
    },
    {
     "data": {
      "image/png": "[encoded data removed]",
      "text/plain": [
       "<Figure size 432x288 with 1 Axes>"
      ]
     },
     "metadata": {
      "needs_background": "light"
     },
     "output_type": "display_data"
    }
   ],
   "source": [
    "# Plot histogram of 'price' in old dataset\n",
    "vehicles.hist('price', bins=100, range=(0, 300000))\n",
    "plt.title(\"Vehicles' Price With Outliers\")\n",
    "plt.xlabel('Price')\n",
    "plt.ylabel('Number of vehicles')\n",
    "\n",
    "# Plot histogram of 'price' in the filtered dataset\n",
    "filtered_vehicles.hist('price', bins=100, range=(0,60000))\n",
    "plt.title(\"Filtered Vehicles' Price Without Outliers\")\n",
    "plt.xlabel('Price')\n",
    "plt.ylabel('Number of vehicles')\n",
    "\n",
    "# Display plot\n",
    "plt.show()"
   ]
  },
  {
   "cell_type": "markdown",
   "metadata": {},
   "source": [
    "##### Conclusion\n",
    "\n",
    "From the new histogram, we are now able see how the data was distributed. Most of the vehicles posted for advertisement are quite cheap with price range from 0 to 10000. There are over 1000 vehicles with a price of 0, which is kind of weird, is it not? Why will you post a vehicle that cost nothing for advertisement? Maybe this set of vehicles are up for recycling?\n",
    "\n",
    "As the price increases, the number of vehicles are decreasing.\n",
    "\n",
    "[<a href=\"#Table-of-Contents\">Back to top</a>]"
   ]
  },
  {
   "cell_type": "markdown",
   "metadata": {},
   "source": [
    "##### AGE_POSTED"
   ]
  },
  {
   "cell_type": "code",
   "execution_count": 26,
   "metadata": {},
   "outputs": [
    {
     "data": {
      "image/png": "[encoded data removed]",
      "text/plain": [
       "<Figure size 432x288 with 1 Axes>"
      ]
     },
     "metadata": {
      "needs_background": "light"
     },
     "output_type": "display_data"
    },
    {
     "data": {
      "image/png": "[encoded data removed]",
      "text/plain": [
       "<Figure size 432x288 with 1 Axes>"
      ]
     },
     "metadata": {
      "needs_background": "light"
     },
     "output_type": "display_data"
    }
   ],
   "source": [
    "# Plot histogram of 'age_posted' in old dataset\n",
    "vehicles.hist('age_posted', bins=100, range=(0, 90))\n",
    "plt.title(\"Vehicles' Age With Outliers\")\n",
    "plt.xlabel('Age')\n",
    "plt.ylabel('Number of vehicles')\n",
    "\n",
    "# Plot histogram of 'age_posted' in the filtered dataset\n",
    "filtered_vehicles.hist('age_posted', bins=100, range=(0,30))\n",
    "plt.title(\"Filtered Vehicles' Age Without Outliers\")\n",
    "plt.xlabel('Age')\n",
    "plt.ylabel('Number of vehicles')\n",
    "\n",
    "# Display plot\n",
    "plt.show()"
   ]
  },
  {
   "cell_type": "markdown",
   "metadata": {},
   "source": [
    "##### Conclusion\n",
    "\n",
    "Vehicles of age 5 are with the highest frequency. There are some series of increase and decrease (ups and downs) in the chart.\n",
    "\n",
    "[<a href=\"#Table-of-Contents\">Back to top</a>]"
   ]
  },
  {
   "cell_type": "markdown",
   "metadata": {},
   "source": [
    "##### AVG_MILEAGE"
   ]
  },
  {
   "cell_type": "code",
   "execution_count": 27,
   "metadata": {},
   "outputs": [
    {
     "data": {
      "image/png": "[encoded data removed]",
      "text/plain": [
       "<Figure size 432x288 with 1 Axes>"
      ]
     },
     "metadata": {
      "needs_background": "light"
     },
     "output_type": "display_data"
    },
    {
     "data": {
      "image/png": "[encoded data removed]",
      "text/plain": [
       "<Figure size 432x288 with 1 Axes>"
      ]
     },
     "metadata": {
      "needs_background": "light"
     },
     "output_type": "display_data"
    }
   ],
   "source": [
    "# Plot histogram of 'age_posted' in old dataset\n",
    "vehicles.hist('avg_mileage', bins=100, range=(0, 200000))\n",
    "plt.title(\"Vehicles' Mileage With Outliers\")\n",
    "plt.xlabel('Mileage')\n",
    "plt.ylabel('Number of vehicles')\n",
    "\n",
    "\n",
    "# Plot histogram of 'age_posted' in the filtered dataset\n",
    "filtered_vehicles.hist('avg_mileage', bins=100, range=(0,40000))\n",
    "plt.title(\"Filtered Vehicles' Mileage Without Outliers\")\n",
    "plt.xlabel('Mileage')\n",
    "plt.ylabel('Number of vehicles')\n",
    "\n",
    "# Display plot\n",
    "plt.show()"
   ]
  },
  {
   "cell_type": "markdown",
   "metadata": {},
   "source": [
    "##### Conclusion\n",
    "\n",
    "We can conclude from the new histogram that there are over 700 vehicles with 0 mileage, meaning that these vehicles are new. There are more vehicles with mileage between 10000 and 15000.  \n",
    "\n",
    "[<a href=\"#Table-of-Contents\">Back to top</a>]"
   ]
  },
  {
   "cell_type": "markdown",
   "metadata": {},
   "source": [
    "##### CYLINDERS"
   ]
  },
  {
   "cell_type": "code",
   "execution_count": 28,
   "metadata": {},
   "outputs": [
    {
     "data": {
      "image/png": "[encoded data removed]",
      "text/plain": [
       "<Figure size 432x288 with 1 Axes>"
      ]
     },
     "metadata": {
      "needs_background": "light"
     },
     "output_type": "display_data"
    },
    {
     "data": {
      "image/png": "[encoded data removed]",
      "text/plain": [
       "<Figure size 432x288 with 1 Axes>"
      ]
     },
     "metadata": {
      "needs_background": "light"
     },
     "output_type": "display_data"
    }
   ],
   "source": [
    "# Plot histogram of 'age_posted' in old dataset\n",
    "vehicles.hist('cylinders', bins=100, range=(0, 13))\n",
    "plt.title(\"Vehicles' Cylinders With Outliers\")\n",
    "plt.xlabel('Cylinders')\n",
    "plt.ylabel('Number of vehicles')\n",
    "\n",
    "# Plot histogram of 'age_posted' in the filtered dataset\n",
    "filtered_vehicles.hist('cylinders', bins=100, range=(0,13))\n",
    "plt.title(\"Filtered Vehicles' Cylinders Without Outliers\")\n",
    "plt.xlabel('Cylinders')\n",
    "plt.ylabel('Number of vehicles')\n",
    "\n",
    "# Display plot\n",
    "plt.show()"
   ]
  },
  {
   "cell_type": "markdown",
   "metadata": {},
   "source": [
    "##### Conclusion\n",
    "\n",
    "In the old histogram (dataset with outliers), vehicles with 8 cylinders have the highest frequency but vehicles with 6 cylinders have the highest frequency in the new histogram (dataset without outliers).\n",
    "\n",
    "[<a href=\"#Table-of-Contents\">Back to top</a>]"
   ]
  },
  {
   "cell_type": "markdown",
   "metadata": {},
   "source": [
    "##### CONDITION"
   ]
  },
  {
   "cell_type": "code",
   "execution_count": 29,
   "metadata": {},
   "outputs": [
    {
     "data": {
      "image/png": "[encoded data removed]",
      "text/plain": [
       "<Figure size 432x288 with 1 Axes>"
      ]
     },
     "metadata": {
      "needs_background": "light"
     },
     "output_type": "display_data"
    },
    {
     "data": {
      "image/png": "[encoded data removed]",
      "text/plain": [
       "<Figure size 432x288 with 1 Axes>"
      ]
     },
     "metadata": {
      "needs_background": "light"
     },
     "output_type": "display_data"
    }
   ],
   "source": [
    "# Plot histogram of 'condition' in old dataset\n",
    "vehicles.hist('condition', bins=30, range=(0, 6))\n",
    "plt.title(\"Vehicles' Conditions With Outliers\")\n",
    "plt.xlabel('Conditions')\n",
    "plt.ylabel('Number of vehicles')\n",
    "\n",
    "# Plot histogram of 'condition' in the filtered dataset\n",
    "filtered_vehicles.hist('condition', bins=30, range=(0, 6))\n",
    "plt.title(\"Filtered Vehicles' Conditions Without Outliers\")\n",
    "plt.xlabel('Conditions')\n",
    "plt.ylabel('Number of vehicles')\n",
    "\n",
    "# Display plot\n",
    "plt.show()"
   ]
  },
  {
   "cell_type": "markdown",
   "metadata": {},
   "source": [
    "##### Conclusion\n",
    "\n",
    "The two histograms look the same, just that there is a reduction in the number of vehicles on the horizontal axis.\n",
    "\n",
    "[<a href=\"#Table-of-Contents\">Back to top</a>]"
   ]
  },
  {
   "cell_type": "markdown",
   "metadata": {},
   "source": [
    "#### Study how many days advertisements were displayed ('days_listed')."
   ]
  },
  {
   "cell_type": "code",
   "execution_count": 30,
   "metadata": {},
   "outputs": [
    {
     "data": {
      "text/plain": [
       "count    46511.000000\n",
       "mean        39.538303\n",
       "std         28.216851\n",
       "min          0.000000\n",
       "25%         19.000000\n",
       "50%         33.000000\n",
       "75%         53.000000\n",
       "max        271.000000\n",
       "Name: days_listed, dtype: float64"
      ]
     },
     "metadata": {},
     "output_type": "display_data"
    },
    {
     "data": {
      "text/plain": [
       "'The average days vehicles were placed on advertisement is: 40'"
      ]
     },
     "metadata": {},
     "output_type": "display_data"
    },
    {
     "data": {
      "text/plain": [
       "'The median value for the number of days vehicles were placed on advertisement is: 33'"
      ]
     },
     "metadata": {},
     "output_type": "display_data"
    },
    {
     "data": {
      "text/plain": [
       "0.0009890133516802476"
      ]
     },
     "metadata": {},
     "output_type": "display_data"
    },
    {
     "name": "stderr",
     "output_type": "stream",
     "text": [
      "/opt/conda/lib/python3.7/site-packages/ipykernel_launcher.py:22: SettingWithCopyWarning: \n",
      "A value is trying to be set on a copy of a slice from a DataFrame.\n",
      "Try using .loc[row_indexer,col_indexer] = value instead\n",
      "\n",
      "See the caveats in the documentation: http://pandas.pydata.org/pandas-docs/stable/user_guide/indexing.html#returning-a-view-versus-a-copy\n",
      "/opt/conda/lib/python3.7/site-packages/ipykernel_launcher.py:31: SettingWithCopyWarning: \n",
      "A value is trying to be set on a copy of a slice from a DataFrame.\n",
      "Try using .loc[row_indexer,col_indexer] = value instead\n",
      "\n",
      "See the caveats in the documentation: http://pandas.pydata.org/pandas-docs/stable/user_guide/indexing.html#returning-a-view-versus-a-copy\n"
     ]
    },
    {
     "data": {
      "text/plain": [
       "Text(0, 0.5, 'Number of vehicles')"
      ]
     },
     "execution_count": 30,
     "metadata": {},
     "output_type": "execute_result"
    },
    {
     "data": {
      "image/png": "[encoded data removed]",
      "text/plain": [
       "<Figure size 432x288 with 1 Axes>"
      ]
     },
     "metadata": {
      "needs_background": "light"
     },
     "output_type": "display_data"
    },
    {
     "data": {
      "image/png": "[encoded data removed]",
      "text/plain": [
       "<Figure size 432x288 with 1 Axes>"
      ]
     },
     "metadata": {
      "needs_background": "light"
     },
     "output_type": "display_data"
    },
    {
     "data": {
      "image/png": "[encoded data removed]",
      "text/plain": [
       "<Figure size 432x288 with 1 Axes>"
      ]
     },
     "metadata": {
      "needs_background": "light"
     },
     "output_type": "display_data"
    }
   ],
   "source": [
    "# get the statistics of the column 'days_listed'\n",
    "display(filtered_vehicles['days_listed'].describe())\n",
    "\n",
    "# plot histogram of 'condition' in the filtered dataset\n",
    "filtered_vehicles.hist('days_listed', bins=100, range=(0, 300))\n",
    "plt.title(\"Vehicles' Days Listed For Ads\")\n",
    "plt.xlabel('Number of Days')\n",
    "plt.ylabel('Number of vehicles')\n",
    "\n",
    "# calculate the mean\n",
    "mean = filtered_vehicles['days_listed'].mean()\n",
    "display('The average days vehicles were placed on advertisement is: {:.0f}'.format(mean))\n",
    "\n",
    "# calculate the median\n",
    "median = filtered_vehicles['days_listed'].median()\n",
    "display('The median value for the number of days vehicles were placed on advertisement is: {:.0f}'.format(median))\n",
    "\n",
    "# divide the number of days listed under 1 day by the total number of vehicles\n",
    "display(len(filtered_vehicles.query('days_listed < 1')) / len(filtered_vehicles))\n",
    "\n",
    "# create a column to save advertisements under 1 days\n",
    "filtered_vehicles['too_short_ads'] = filtered_vehicles['days_listed'] < 1\n",
    "\n",
    "# creat a pivot table and plot a histogram of it with 30 bins\n",
    "filtered_vehicles.pivot_table(index='model', values='too_short_ads').hist(bins=30)\n",
    "plt.title(\"Percentage of Too Short Ads\")\n",
    "plt.xlabel('Percentage')\n",
    "plt.ylabel('Number of vehicles')\n",
    "\n",
    "# create a column to save advertisements over 170 days\n",
    "filtered_vehicles['too_long_ads'] = filtered_vehicles['days_listed'] > 170\n",
    "\n",
    "# creat a pivot table and plot a histogram of it with 30 bins\n",
    "filtered_vehicles.pivot_table(index='model', values='too_long_ads').hist(bins=30)\n",
    "plt.title(\"Percentage of Too Long Ads\")\n",
    "plt.xlabel('Percentage')\n",
    "plt.ylabel('Number of vehicles')"
   ]
  },
  {
   "cell_type": "markdown",
   "metadata": {},
   "source": [
    "##### Conclusion\n",
    "\n",
    "We used the [.describe()]() method to get the statistics of the ['days_listed']() column. The mean is higher than the median. This implies that the column has outliers in the longer days.\n",
    "\n",
    "The zero day ads look strange in our dataset. We calculated the share of advertisements under 1 day by dividing the number of advertisements under 1 day by the total number of vehicles. We found out that advertisements under 1 day account for less than 1% of the dataset. So we decided to set a minimum day limit of 1 day for vehicles to be listed on advertisement and create a ['too_short_ads']() column using the following values:\n",
    "* True if the days listed for advertisement is less than 1 day.\n",
    "* False if the days listed for advertisement is equal or more than 1 day.\n",
    "\n",
    "Ads that last 150 days are rare, almost no vehicle was placed on advertisement for more than 200 days, and around 210 days, the histogram zeroes out. We decided to set a maximum day limit of 170 days for vehicles to be listed on advertisement and create a [‘too_long_ads’]() column using the following values:\n",
    "* True if the days listed for advertisement is more than 170 days.\n",
    "* False if the days listed for advertisement is equal to or less than 170 days.\n",
    "\n",
    "We then built a histogram showing the percentage of too_long_ads visits for different vehicle models (grouping by model), using 30 bins.\n",
    "Most long advertisements account for less than 1% of the dataset.\n",
    "\n",
    "Since there are outliers in the column, it is safe to say that the typical lifetime of an ad is 33 days, which is the median of the column.\n",
    "\n",
    "Using the [Vehicles' Days Listed For Ads]() histogram, we concluded that ads that last for just a day (1 day) or less on our site are considered to be removed quickly, while ads that last for more than 170 days are considered to be abnormally long. \n",
    "\n",
    "[<a href=\"#Table-of-Contents\">Back to top</a>]"
   ]
  },
  {
   "cell_type": "markdown",
   "metadata": {},
   "source": [
    "#### Analyze the number of ads and the average price for each type of vehicle."
   ]
  },
  {
   "cell_type": "code",
   "execution_count": 31,
   "metadata": {},
   "outputs": [
    {
     "data": {
      "text/html": [
       "<div>\n",
       "<style scoped>\n",
       "    .dataframe tbody tr th:only-of-type {\n",
       "        vertical-align: middle;\n",
       "    }\n",
       "\n",
       "    .dataframe tbody tr th {\n",
       "        vertical-align: top;\n",
       "    }\n",
       "\n",
       "    .dataframe thead th {\n",
       "        text-align: right;\n",
       "    }\n",
       "</style>\n",
       "<table border=\"1\" class=\"dataframe\">\n",
       "  <thead>\n",
       "    <tr style=\"text-align: right;\">\n",
       "      <th></th>\n",
       "      <th>price</th>\n",
       "    </tr>\n",
       "    <tr>\n",
       "      <th>type</th>\n",
       "      <th></th>\n",
       "    </tr>\n",
       "  </thead>\n",
       "  <tbody>\n",
       "    <tr>\n",
       "      <td>SUV</td>\n",
       "      <td>10198.962152</td>\n",
       "    </tr>\n",
       "    <tr>\n",
       "      <td>bus</td>\n",
       "      <td>17445.913043</td>\n",
       "    </tr>\n",
       "    <tr>\n",
       "      <td>convertible</td>\n",
       "      <td>12663.036517</td>\n",
       "    </tr>\n",
       "    <tr>\n",
       "      <td>coupe</td>\n",
       "      <td>13149.364275</td>\n",
       "    </tr>\n",
       "    <tr>\n",
       "      <td>hatchback</td>\n",
       "      <td>6613.654602</td>\n",
       "    </tr>\n",
       "    <tr>\n",
       "      <td>mini-van</td>\n",
       "      <td>7656.572102</td>\n",
       "    </tr>\n",
       "    <tr>\n",
       "      <td>offroad</td>\n",
       "      <td>14213.829670</td>\n",
       "    </tr>\n",
       "    <tr>\n",
       "      <td>other</td>\n",
       "      <td>9922.846847</td>\n",
       "    </tr>\n",
       "    <tr>\n",
       "      <td>pickup</td>\n",
       "      <td>14579.326112</td>\n",
       "    </tr>\n",
       "    <tr>\n",
       "      <td>sedan</td>\n",
       "      <td>6735.814753</td>\n",
       "    </tr>\n",
       "    <tr>\n",
       "      <td>truck</td>\n",
       "      <td>14698.617699</td>\n",
       "    </tr>\n",
       "    <tr>\n",
       "      <td>van</td>\n",
       "      <td>10283.182444</td>\n",
       "    </tr>\n",
       "    <tr>\n",
       "      <td>wagon</td>\n",
       "      <td>8743.631508</td>\n",
       "    </tr>\n",
       "  </tbody>\n",
       "</table>\n",
       "</div>"
      ],
      "text/plain": [
       "                    price\n",
       "type                     \n",
       "SUV          10198.962152\n",
       "bus          17445.913043\n",
       "convertible  12663.036517\n",
       "coupe        13149.364275\n",
       "hatchback     6613.654602\n",
       "mini-van      7656.572102\n",
       "offroad      14213.829670\n",
       "other         9922.846847\n",
       "pickup       14579.326112\n",
       "sedan         6735.814753\n",
       "truck        14698.617699\n",
       "van          10283.182444\n",
       "wagon         8743.631508"
      ]
     },
     "metadata": {},
     "output_type": "display_data"
    },
    {
     "data": {
      "text/plain": [
       "'The two types of vehicle with the greatest number of ads are: SUV and sedan'"
      ]
     },
     "metadata": {},
     "output_type": "display_data"
    },
    {
     "data": {
      "image/png": "[encoded data removed]",
      "text/plain": [
       "<Figure size 432x288 with 1 Axes>"
      ]
     },
     "metadata": {
      "needs_background": "light"
     },
     "output_type": "display_data"
    }
   ],
   "source": [
    "# create a pivot table for the avarage price per vehicle types\n",
    "avg_price_type = filtered_vehicles.pivot_table(index='type', values='price', aggfunc='mean')\n",
    "display(avg_price_type)\n",
    "\n",
    "# plot a graph for number of ads against vehicles' type \n",
    "filtered_vehicles['type'].value_counts().plot(kind='bar', title=\"Dependency of number of ads on vehicles' type\")\n",
    "plt.xlabel(\"Vehicles' Type\")\n",
    "plt.ylabel('Number of vehicles')\n",
    "\n",
    "\n",
    "# get the two vehicles with greatest number of ads\n",
    "ads_type = filtered_vehicles['type'].value_counts().sort_values(ascending=False)\n",
    "first_max = ads_type.idxmax()\n",
    "ads_type = ads_type.drop(first_max)\n",
    "second_max = ads_type.idxmax()\n",
    "\n",
    "display('The two types of vehicle with the greatest number of ads are: ' + first_max + ' and ' + second_max)"
   ]
  },
  {
   "cell_type": "markdown",
   "metadata": {},
   "source": [
    "##### Conclusion\n",
    "\n",
    "\n",
    "The average price for bus is 17445.913043, which is highest (most expensive) compared to other vehicle types. The hatchback seems to be the cheapest.\n",
    "\n",
    "We discovered that the two most poular type of vehicle placed on advertisement are SUV and sedan. And the least popular is the bus, which are barely place on advertisment.\n",
    "\n",
    "[<a href=\"#Table-of-Contents\">Back to top</a>]"
   ]
  },
  {
   "cell_type": "markdown",
   "metadata": {},
   "source": [
    "#### What factors impact the price most?\n",
    "\n",
    "For the quantitative variables, we will create scatterplots to determine whether the price of vehicles depend on age and mileage of vehicles, and also calculate the correlation coefficients to confirm our conclusion.\n",
    "\n",
    "And for the categorical variables, we will create box-and-whisker chart to determine whether the price of vehicles depend on condition, transmission typeand color of vehicles.\n",
    "\n",
    "##### SUV"
   ]
  },
  {
   "cell_type": "code",
   "execution_count": 32,
   "metadata": {},
   "outputs": [
    {
     "data": {
      "text/html": [
       "<div>\n",
       "<style scoped>\n",
       "    .dataframe tbody tr th:only-of-type {\n",
       "        vertical-align: middle;\n",
       "    }\n",
       "\n",
       "    .dataframe tbody tr th {\n",
       "        vertical-align: top;\n",
       "    }\n",
       "\n",
       "    .dataframe thead th {\n",
       "        text-align: right;\n",
       "    }\n",
       "</style>\n",
       "<table border=\"1\" class=\"dataframe\">\n",
       "  <thead>\n",
       "    <tr style=\"text-align: right;\">\n",
       "      <th></th>\n",
       "      <th>price</th>\n",
       "      <th>model_year</th>\n",
       "      <th>model</th>\n",
       "      <th>condition</th>\n",
       "      <th>cylinders</th>\n",
       "      <th>fuel</th>\n",
       "      <th>odometer</th>\n",
       "      <th>transmission</th>\n",
       "      <th>type</th>\n",
       "      <th>paint_color</th>\n",
       "      <th>is_4wd</th>\n",
       "      <th>date_posted</th>\n",
       "      <th>days_listed</th>\n",
       "      <th>week_day</th>\n",
       "      <th>month_posted</th>\n",
       "      <th>year_posted</th>\n",
       "      <th>age_posted</th>\n",
       "      <th>avg_mileage</th>\n",
       "      <th>too_short_ads</th>\n",
       "      <th>too_long_ads</th>\n",
       "    </tr>\n",
       "  </thead>\n",
       "  <tbody>\n",
       "    <tr>\n",
       "      <td>0</td>\n",
       "      <td>9400</td>\n",
       "      <td>2011</td>\n",
       "      <td>bmw x5</td>\n",
       "      <td>2</td>\n",
       "      <td>6.0</td>\n",
       "      <td>gas</td>\n",
       "      <td>145000.0</td>\n",
       "      <td>automatic</td>\n",
       "      <td>SUV</td>\n",
       "      <td>custom</td>\n",
       "      <td>True</td>\n",
       "      <td>2018-06-23</td>\n",
       "      <td>19</td>\n",
       "      <td>5</td>\n",
       "      <td>6</td>\n",
       "      <td>2018</td>\n",
       "      <td>7</td>\n",
       "      <td>20714</td>\n",
       "      <td>False</td>\n",
       "      <td>False</td>\n",
       "    </tr>\n",
       "    <tr>\n",
       "      <td>7</td>\n",
       "      <td>15990</td>\n",
       "      <td>2013</td>\n",
       "      <td>honda pilot</td>\n",
       "      <td>3</td>\n",
       "      <td>6.0</td>\n",
       "      <td>gas</td>\n",
       "      <td>109473.0</td>\n",
       "      <td>automatic</td>\n",
       "      <td>SUV</td>\n",
       "      <td>black</td>\n",
       "      <td>True</td>\n",
       "      <td>2019-01-07</td>\n",
       "      <td>68</td>\n",
       "      <td>0</td>\n",
       "      <td>1</td>\n",
       "      <td>2019</td>\n",
       "      <td>6</td>\n",
       "      <td>18245</td>\n",
       "      <td>False</td>\n",
       "      <td>False</td>\n",
       "    </tr>\n",
       "    <tr>\n",
       "      <td>8</td>\n",
       "      <td>11500</td>\n",
       "      <td>2012</td>\n",
       "      <td>kia sorento</td>\n",
       "      <td>3</td>\n",
       "      <td>4.0</td>\n",
       "      <td>gas</td>\n",
       "      <td>104174.0</td>\n",
       "      <td>automatic</td>\n",
       "      <td>SUV</td>\n",
       "      <td>custom</td>\n",
       "      <td>True</td>\n",
       "      <td>2018-07-16</td>\n",
       "      <td>19</td>\n",
       "      <td>0</td>\n",
       "      <td>7</td>\n",
       "      <td>2018</td>\n",
       "      <td>6</td>\n",
       "      <td>17362</td>\n",
       "      <td>False</td>\n",
       "      <td>False</td>\n",
       "    </tr>\n",
       "    <tr>\n",
       "      <td>9</td>\n",
       "      <td>9200</td>\n",
       "      <td>2008</td>\n",
       "      <td>honda pilot</td>\n",
       "      <td>3</td>\n",
       "      <td>6.0</td>\n",
       "      <td>gas</td>\n",
       "      <td>147191.0</td>\n",
       "      <td>automatic</td>\n",
       "      <td>SUV</td>\n",
       "      <td>blue</td>\n",
       "      <td>True</td>\n",
       "      <td>2019-02-15</td>\n",
       "      <td>17</td>\n",
       "      <td>4</td>\n",
       "      <td>2</td>\n",
       "      <td>2019</td>\n",
       "      <td>11</td>\n",
       "      <td>13381</td>\n",
       "      <td>False</td>\n",
       "      <td>False</td>\n",
       "    </tr>\n",
       "    <tr>\n",
       "      <td>14</td>\n",
       "      <td>12990</td>\n",
       "      <td>2009</td>\n",
       "      <td>gmc yukon</td>\n",
       "      <td>3</td>\n",
       "      <td>8.0</td>\n",
       "      <td>gas</td>\n",
       "      <td>132285.0</td>\n",
       "      <td>automatic</td>\n",
       "      <td>SUV</td>\n",
       "      <td>black</td>\n",
       "      <td>True</td>\n",
       "      <td>2019-01-31</td>\n",
       "      <td>24</td>\n",
       "      <td>3</td>\n",
       "      <td>1</td>\n",
       "      <td>2019</td>\n",
       "      <td>10</td>\n",
       "      <td>13228</td>\n",
       "      <td>False</td>\n",
       "      <td>False</td>\n",
       "    </tr>\n",
       "  </tbody>\n",
       "</table>\n",
       "</div>"
      ],
      "text/plain": [
       "    price  model_year        model  condition  cylinders fuel  odometer  \\\n",
       "0    9400        2011       bmw x5          2        6.0  gas  145000.0   \n",
       "7   15990        2013  honda pilot          3        6.0  gas  109473.0   \n",
       "8   11500        2012  kia sorento          3        4.0  gas  104174.0   \n",
       "9    9200        2008  honda pilot          3        6.0  gas  147191.0   \n",
       "14  12990        2009    gmc yukon          3        8.0  gas  132285.0   \n",
       "\n",
       "   transmission type paint_color  is_4wd date_posted  days_listed  week_day  \\\n",
       "0     automatic  SUV      custom    True  2018-06-23           19         5   \n",
       "7     automatic  SUV       black    True  2019-01-07           68         0   \n",
       "8     automatic  SUV      custom    True  2018-07-16           19         0   \n",
       "9     automatic  SUV        blue    True  2019-02-15           17         4   \n",
       "14    automatic  SUV       black    True  2019-01-31           24         3   \n",
       "\n",
       "    month_posted  year_posted  age_posted  avg_mileage  too_short_ads  \\\n",
       "0              6         2018           7        20714          False   \n",
       "7              1         2019           6        18245          False   \n",
       "8              7         2018           6        17362          False   \n",
       "9              2         2019          11        13381          False   \n",
       "14             1         2019          10        13228          False   \n",
       "\n",
       "    too_long_ads  \n",
       "0          False  \n",
       "7          False  \n",
       "8          False  \n",
       "9          False  \n",
       "14         False  "
      ]
     },
     "metadata": {},
     "output_type": "display_data"
    },
    {
     "data": {
      "text/plain": [
       "-0.573720386136816"
      ]
     },
     "metadata": {},
     "output_type": "display_data"
    },
    {
     "data": {
      "text/plain": [
       "0.25406117401860384"
      ]
     },
     "metadata": {},
     "output_type": "display_data"
    },
    {
     "name": "stderr",
     "output_type": "stream",
     "text": [
      "/opt/conda/lib/python3.7/site-packages/numpy/core/_asarray.py:83: VisibleDeprecationWarning: Creating an ndarray from ragged nested sequences (which is a list-or-tuple of lists-or-tuples-or ndarrays with different lengths or shapes) is deprecated. If you meant to do this, you must specify 'dtype=object' when creating the ndarray\n",
      "  return array(a, dtype, copy=False, order=order)\n",
      "/opt/conda/lib/python3.7/site-packages/numpy/core/_asarray.py:83: VisibleDeprecationWarning: Creating an ndarray from ragged nested sequences (which is a list-or-tuple of lists-or-tuples-or ndarrays with different lengths or shapes) is deprecated. If you meant to do this, you must specify 'dtype=object' when creating the ndarray\n",
      "  return array(a, dtype, copy=False, order=order)\n",
      "/opt/conda/lib/python3.7/site-packages/numpy/core/_asarray.py:83: VisibleDeprecationWarning: Creating an ndarray from ragged nested sequences (which is a list-or-tuple of lists-or-tuples-or ndarrays with different lengths or shapes) is deprecated. If you meant to do this, you must specify 'dtype=object' when creating the ndarray\n",
      "  return array(a, dtype, copy=False, order=order)\n"
     ]
    },
    {
     "data": {
      "text/plain": [
       "(array([ 1,  2,  3,  4,  5,  6,  7,  8,  9, 10, 11, 12]),\n",
       " <a list of 12 Text xticklabel objects>)"
      ]
     },
     "execution_count": 32,
     "metadata": {},
     "output_type": "execute_result"
    },
    {
     "data": {
      "image/png": "[encoded data removed]",
      "text/plain": [
       "<Figure size 432x288 with 1 Axes>"
      ]
     },
     "metadata": {
      "needs_background": "light"
     },
     "output_type": "display_data"
    },
    {
     "data": {
      "image/png": "[encoded data removed]",
      "text/plain": [
       "<Figure size 432x288 with 1 Axes>"
      ]
     },
     "metadata": {
      "needs_background": "light"
     },
     "output_type": "display_data"
    },
    {
     "data": {
      "image/png": "[encoded data removed]",
      "text/plain": [
       "<Figure size 432x288 with 1 Axes>"
      ]
     },
     "metadata": {
      "needs_background": "light"
     },
     "output_type": "display_data"
    },
    {
     "data": {
      "image/png": "[encoded data removed]",
      "text/plain": [
       "<Figure size 432x288 with 1 Axes>"
      ]
     },
     "metadata": {
      "needs_background": "light"
     },
     "output_type": "display_data"
    },
    {
     "data": {
      "image/png": "[encoded data removed]",
      "text/plain": [
       "<Figure size 432x288 with 1 Axes>"
      ]
     },
     "metadata": {
      "needs_background": "light"
     },
     "output_type": "display_data"
    }
   ],
   "source": [
    "# filter the SUV vehicles\n",
    "suv_type = filtered_vehicles.query('type == \"SUV\"')\n",
    "display(suv_type.head())\n",
    "\n",
    "# >>>QUANTITATIVE VARIABLES<<<\n",
    "\n",
    "# create scatterplot for 'price' and 'age_posted' column\n",
    "suv_type.plot(x='age_posted', y='price', kind='scatter', alpha=0.3, grid=True, title='SUV price and age')\n",
    "\n",
    "# find the correlation between price and age of vehicles\n",
    "display(suv_type['price'].corr(suv_type['age_posted']))\n",
    "\n",
    "# create a sctterplot for 'price' and 'avg_mileage' column\n",
    "suv_type.plot(x='avg_mileage', y='price', kind='scatter', grid=True, title='SUV price and mileage')\n",
    "\n",
    "# find the correlation between price and mileage of vehicles\n",
    "display(suv_type['price'].corr(suv_type['avg_mileage']))\n",
    "\n",
    "\n",
    "# >>>CATEGORICAL VARIABLES<<<\n",
    "\n",
    "# create a box-and-whisker chart for 'price' and 'condition' column\n",
    "suv_type.boxplot(column=['price'], by='condition', return_type='axes')\n",
    "plt.xlabel(\"Condition\")\n",
    "plt.ylabel('Price')\n",
    "\n",
    "# create a box-and-whisker chart for 'price' and 'transmission' column \n",
    "suv_type.boxplot(column=['price'], by='transmission', return_type='axes')\n",
    "plt.xlabel(\"Transmission Type\")\n",
    "plt.ylabel('Price')\n",
    "\n",
    "# create a box-and-whisker chart for 'price' and 'paint_color' column\n",
    "suv_type.boxplot(column=['price'], by='paint_color', return_type='axes')\n",
    "plt.xlabel(\"Color\")\n",
    "plt.ylabel('Price')\n",
    "plt.xticks(rotation=45, ha='right')"
   ]
  },
  {
   "cell_type": "markdown",
   "metadata": {},
   "source": [
    "##### Conclusion\n",
    "\n",
    "We create a dataframe [suv_type]() to filter out the SUV vehicles from the filtered dataset. \n",
    "\n",
    "For the quantitative variables, the following conclusions were drawn;\n",
    "* Price and age: from the scatterplots, we can see that there is a decrease in the price as the age of the vehicles increases. This means that the age of SUV vehicles has impact on the price. And with a correlation coefficient of -0.573720386136816, which is closer to -1, this means that there is a strong dependency.\n",
    "* Price and mileage: from the scatterplots, there is an even distribution. This means that the average mileage of SUV vehicles do not have any impact on the price. With a correlation coefficient of 0.25406117401860384, which is closer to 0, this means that there is a weak connection.\n",
    "\n",
    "For the categorical variables, the following conclusions were drawn;\n",
    "* Price and condition: we can see that there is an increase in price as the condition increases. Condition of 0 means the vehicle is salvage, while condition of 5 means the vehicle is new. We can therefore, conclude that the condition of SUV vehicles have an impact on the price.\n",
    "* Price and transmission type: from the box-and-whisker chart, there are slight difference between the prices, so we deduced that the transmission type of SUV vehicles do not have impact on the price.\n",
    "* Price and color: there are flunctuations in the boxes and whiskers, so we conclude that the color of SUV vehicles do not have any impact on the price.\n",
    "\n",
    "[<a href=\"#Table-of-Contents\">Back to top</a>]"
   ]
  },
  {
   "cell_type": "markdown",
   "metadata": {},
   "source": [
    "##### SEDAN"
   ]
  },
  {
   "cell_type": "code",
   "execution_count": 33,
   "metadata": {},
   "outputs": [
    {
     "data": {
      "text/html": [
       "<div>\n",
       "<style scoped>\n",
       "    .dataframe tbody tr th:only-of-type {\n",
       "        vertical-align: middle;\n",
       "    }\n",
       "\n",
       "    .dataframe tbody tr th {\n",
       "        vertical-align: top;\n",
       "    }\n",
       "\n",
       "    .dataframe thead th {\n",
       "        text-align: right;\n",
       "    }\n",
       "</style>\n",
       "<table border=\"1\" class=\"dataframe\">\n",
       "  <thead>\n",
       "    <tr style=\"text-align: right;\">\n",
       "      <th></th>\n",
       "      <th>price</th>\n",
       "      <th>model_year</th>\n",
       "      <th>model</th>\n",
       "      <th>condition</th>\n",
       "      <th>cylinders</th>\n",
       "      <th>fuel</th>\n",
       "      <th>odometer</th>\n",
       "      <th>transmission</th>\n",
       "      <th>type</th>\n",
       "      <th>paint_color</th>\n",
       "      <th>is_4wd</th>\n",
       "      <th>date_posted</th>\n",
       "      <th>days_listed</th>\n",
       "      <th>week_day</th>\n",
       "      <th>month_posted</th>\n",
       "      <th>year_posted</th>\n",
       "      <th>age_posted</th>\n",
       "      <th>avg_mileage</th>\n",
       "      <th>too_short_ads</th>\n",
       "      <th>too_long_ads</th>\n",
       "    </tr>\n",
       "  </thead>\n",
       "  <tbody>\n",
       "    <tr>\n",
       "      <td>2</td>\n",
       "      <td>5500</td>\n",
       "      <td>2013</td>\n",
       "      <td>hyundai sonata</td>\n",
       "      <td>4</td>\n",
       "      <td>4.0</td>\n",
       "      <td>gas</td>\n",
       "      <td>110000.0</td>\n",
       "      <td>automatic</td>\n",
       "      <td>sedan</td>\n",
       "      <td>red</td>\n",
       "      <td>False</td>\n",
       "      <td>2019-02-07</td>\n",
       "      <td>79</td>\n",
       "      <td>3</td>\n",
       "      <td>2</td>\n",
       "      <td>2019</td>\n",
       "      <td>6</td>\n",
       "      <td>18333</td>\n",
       "      <td>False</td>\n",
       "      <td>False</td>\n",
       "    </tr>\n",
       "    <tr>\n",
       "      <td>5</td>\n",
       "      <td>14990</td>\n",
       "      <td>2014</td>\n",
       "      <td>chrysler 300</td>\n",
       "      <td>3</td>\n",
       "      <td>6.0</td>\n",
       "      <td>gas</td>\n",
       "      <td>57954.0</td>\n",
       "      <td>automatic</td>\n",
       "      <td>sedan</td>\n",
       "      <td>black</td>\n",
       "      <td>True</td>\n",
       "      <td>2018-06-20</td>\n",
       "      <td>15</td>\n",
       "      <td>2</td>\n",
       "      <td>6</td>\n",
       "      <td>2018</td>\n",
       "      <td>4</td>\n",
       "      <td>14488</td>\n",
       "      <td>False</td>\n",
       "      <td>False</td>\n",
       "    </tr>\n",
       "    <tr>\n",
       "      <td>6</td>\n",
       "      <td>12990</td>\n",
       "      <td>2015</td>\n",
       "      <td>toyota camry</td>\n",
       "      <td>3</td>\n",
       "      <td>4.0</td>\n",
       "      <td>gas</td>\n",
       "      <td>79212.0</td>\n",
       "      <td>automatic</td>\n",
       "      <td>sedan</td>\n",
       "      <td>white</td>\n",
       "      <td>False</td>\n",
       "      <td>2018-12-27</td>\n",
       "      <td>73</td>\n",
       "      <td>3</td>\n",
       "      <td>12</td>\n",
       "      <td>2018</td>\n",
       "      <td>3</td>\n",
       "      <td>26404</td>\n",
       "      <td>False</td>\n",
       "      <td>False</td>\n",
       "    </tr>\n",
       "    <tr>\n",
       "      <td>11</td>\n",
       "      <td>8990</td>\n",
       "      <td>2012</td>\n",
       "      <td>honda accord</td>\n",
       "      <td>3</td>\n",
       "      <td>4.0</td>\n",
       "      <td>gas</td>\n",
       "      <td>111142.0</td>\n",
       "      <td>automatic</td>\n",
       "      <td>sedan</td>\n",
       "      <td>grey</td>\n",
       "      <td>False</td>\n",
       "      <td>2019-03-28</td>\n",
       "      <td>29</td>\n",
       "      <td>3</td>\n",
       "      <td>3</td>\n",
       "      <td>2019</td>\n",
       "      <td>7</td>\n",
       "      <td>15877</td>\n",
       "      <td>False</td>\n",
       "      <td>False</td>\n",
       "    </tr>\n",
       "    <tr>\n",
       "      <td>13</td>\n",
       "      <td>16500</td>\n",
       "      <td>2018</td>\n",
       "      <td>hyundai sonata</td>\n",
       "      <td>3</td>\n",
       "      <td>4.0</td>\n",
       "      <td>gas</td>\n",
       "      <td>22104.0</td>\n",
       "      <td>automatic</td>\n",
       "      <td>sedan</td>\n",
       "      <td>silver</td>\n",
       "      <td>False</td>\n",
       "      <td>2019-01-14</td>\n",
       "      <td>29</td>\n",
       "      <td>0</td>\n",
       "      <td>1</td>\n",
       "      <td>2019</td>\n",
       "      <td>1</td>\n",
       "      <td>22104</td>\n",
       "      <td>False</td>\n",
       "      <td>False</td>\n",
       "    </tr>\n",
       "  </tbody>\n",
       "</table>\n",
       "</div>"
      ],
      "text/plain": [
       "    price  model_year           model  condition  cylinders fuel  odometer  \\\n",
       "2    5500        2013  hyundai sonata          4        4.0  gas  110000.0   \n",
       "5   14990        2014    chrysler 300          3        6.0  gas   57954.0   \n",
       "6   12990        2015    toyota camry          3        4.0  gas   79212.0   \n",
       "11   8990        2012    honda accord          3        4.0  gas  111142.0   \n",
       "13  16500        2018  hyundai sonata          3        4.0  gas   22104.0   \n",
       "\n",
       "   transmission   type paint_color  is_4wd date_posted  days_listed  week_day  \\\n",
       "2     automatic  sedan         red   False  2019-02-07           79         3   \n",
       "5     automatic  sedan       black    True  2018-06-20           15         2   \n",
       "6     automatic  sedan       white   False  2018-12-27           73         3   \n",
       "11    automatic  sedan        grey   False  2019-03-28           29         3   \n",
       "13    automatic  sedan      silver   False  2019-01-14           29         0   \n",
       "\n",
       "    month_posted  year_posted  age_posted  avg_mileage  too_short_ads  \\\n",
       "2              2         2019           6        18333          False   \n",
       "5              6         2018           4        14488          False   \n",
       "6             12         2018           3        26404          False   \n",
       "11             3         2019           7        15877          False   \n",
       "13             1         2019           1        22104          False   \n",
       "\n",
       "    too_long_ads  \n",
       "2          False  \n",
       "5          False  \n",
       "6          False  \n",
       "11         False  \n",
       "13         False  "
      ]
     },
     "metadata": {},
     "output_type": "display_data"
    },
    {
     "data": {
      "text/plain": [
       "-0.6045907416228892"
      ]
     },
     "metadata": {},
     "output_type": "display_data"
    },
    {
     "data": {
      "text/plain": [
       "0.18990798764179564"
      ]
     },
     "metadata": {},
     "output_type": "display_data"
    },
    {
     "name": "stderr",
     "output_type": "stream",
     "text": [
      "/opt/conda/lib/python3.7/site-packages/numpy/core/_asarray.py:83: VisibleDeprecationWarning: Creating an ndarray from ragged nested sequences (which is a list-or-tuple of lists-or-tuples-or ndarrays with different lengths or shapes) is deprecated. If you meant to do this, you must specify 'dtype=object' when creating the ndarray\n",
      "  return array(a, dtype, copy=False, order=order)\n",
      "/opt/conda/lib/python3.7/site-packages/numpy/core/_asarray.py:83: VisibleDeprecationWarning: Creating an ndarray from ragged nested sequences (which is a list-or-tuple of lists-or-tuples-or ndarrays with different lengths or shapes) is deprecated. If you meant to do this, you must specify 'dtype=object' when creating the ndarray\n",
      "  return array(a, dtype, copy=False, order=order)\n",
      "/opt/conda/lib/python3.7/site-packages/numpy/core/_asarray.py:83: VisibleDeprecationWarning: Creating an ndarray from ragged nested sequences (which is a list-or-tuple of lists-or-tuples-or ndarrays with different lengths or shapes) is deprecated. If you meant to do this, you must specify 'dtype=object' when creating the ndarray\n",
      "  return array(a, dtype, copy=False, order=order)\n"
     ]
    },
    {
     "data": {
      "text/plain": [
       "(array([ 1,  2,  3,  4,  5,  6,  7,  8,  9, 10, 11, 12]),\n",
       " <a list of 12 Text xticklabel objects>)"
      ]
     },
     "execution_count": 33,
     "metadata": {},
     "output_type": "execute_result"
    },
    {
     "data": {
      "image/png": "[encoded data removed]",
      "text/plain": [
       "<Figure size 432x288 with 1 Axes>"
      ]
     },
     "metadata": {
      "needs_background": "light"
     },
     "output_type": "display_data"
    },
    {
     "data": {
      "image/png": "[encoded data removed]",
      "text/plain": [
       "<Figure size 432x288 with 1 Axes>"
      ]
     },
     "metadata": {
      "needs_background": "light"
     },
     "output_type": "display_data"
    },
    {
     "data": {
      "image/png": "[encoded data removed]",
      "text/plain": [
       "<Figure size 432x288 with 1 Axes>"
      ]
     },
     "metadata": {
      "needs_background": "light"
     },
     "output_type": "display_data"
    },
    {
     "data": {
      "image/png": "[encoded data removed]",
      "text/plain": [
       "<Figure size 432x288 with 1 Axes>"
      ]
     },
     "metadata": {
      "needs_background": "light"
     },
     "output_type": "display_data"
    },
    {
     "data": {
      "image/png": "[encoded data removed]",
      "text/plain": [
       "<Figure size 432x288 with 1 Axes>"
      ]
     },
     "metadata": {
      "needs_background": "light"
     },
     "output_type": "display_data"
    }
   ],
   "source": [
    "# filter the sedan vehicles\n",
    "sedan_type = filtered_vehicles.query('type == \"sedan\"')\n",
    "display(sedan_type.head())\n",
    "\n",
    "# >>>QUANTITATIVE VARIABLES<<<\n",
    "\n",
    "# create scatterplot for 'price' and 'age_posted' column\n",
    "sedan_type.plot(x='age_posted', y='price', kind='scatter', alpha=0.3, grid=True, title='Sedan price and age')\n",
    "\n",
    "# find the correlation between price and age of vehicles\n",
    "display(sedan_type['price'].corr(sedan_type['age_posted']))\n",
    "\n",
    "# create scatterplot for 'price' and 'avg_mileage' column\n",
    "sedan_type.plot(x='avg_mileage', y='price', kind='scatter', grid=True, title='Sedan price and mileage')\n",
    "\n",
    "# find the correlation between price and mileage of vehicles\n",
    "display(sedan_type['price'].corr(sedan_type['avg_mileage']))\n",
    "\n",
    "\n",
    "# CATEGORICAL VARIABLE\n",
    "\n",
    "# create a box-and-whisker chart for 'price' and 'condition' column\n",
    "sedan_type.boxplot(column=['price'], by='condition', return_type='axes')\n",
    "plt.xlabel(\"Condition\")\n",
    "plt.ylabel('Price')\n",
    "\n",
    "# create a box-and-whisker chart for 'price' and 'transmission' column\n",
    "sedan_type.boxplot(column=['price'], by='transmission', return_type='axes')\n",
    "plt.xlabel(\"Transmission Type\")\n",
    "plt.ylabel('Price')\n",
    "\n",
    "# create a box-and-whisker chart for 'price' and 'paint_color' column\n",
    "sedan_type.boxplot(column=['price'], by='paint_color', return_type='axes')\n",
    "plt.xlabel(\"Color\")\n",
    "plt.ylabel('Price')\n",
    "plt.xticks(rotation=45, ha='right')"
   ]
  },
  {
   "cell_type": "markdown",
   "metadata": {},
   "source": [
    "##### Conclusion\n",
    "\n",
    "We create a dataframe [sedan_type]() to filter out the sedan vehicles from the filtered dataset. \n",
    "\n",
    "For the quantitative variables, the following conclusions were drawn;\n",
    "* Price and age: from the scatterplots, we can see that there is a decrease in the price as the age of the vehicles increases. This means that the age of sedan vehicles has impact on the price. And with a correlation coefficient of -0.6045907416228892, which is closer to -1, this means that there is a strong dependency.\n",
    "* Price and mileage: from the scatterplots, there is an even distribution. This means that the average mileage of sedan vehicles do not have any impact on the price. With a correlation coefficient of 0.18990798764179564, which is closer to 0, this means that there is a weak connection.\n",
    "\n",
    "For the categorical variables, the following conclusions were drawn;\n",
    "* Price and condition: we can see that there is an increase in price as the condition increases. Condition of 0 means the vehicle is salvage, while condition of 5 means the vehicle is new. We can therefore, conclude that the condition of sedan vehicles have an impact on the price.\n",
    "* Price and transmission type: from the box-and-whisker chart, there are slight difference between the prices, so we deduced that the transmission type of sedan vehicles do not have impact on the price.\n",
    "* Price and color: there are flunctuations in the boxes and whiskers, so we conclude that the color of sedan vehicles do not have any impact on the price.\n",
    "\n",
    "[<a href=\"#Table-of-Contents\">Back to top</a>]"
   ]
  },
  {
   "cell_type": "markdown",
   "metadata": {},
   "source": [
    "### Step 5. Overall conclusion"
   ]
  },
  {
   "cell_type": "markdown",
   "metadata": {},
   "source": [
    "We have successfully analyzed free advertisements for 51525 vehicles that are published on our site and the following conclusions were drawn.\n",
    "\n",
    "During the data preparation,we discovered that...\n",
    "\n",
    "* 5 columns out of 13 columns are with missing values.\n",
    "* half of the values in ['is_4wd']() column are missing.\n",
    "* two automatic vehicles () have a model year of 1908, which does not seem right, so we decided to delete them from our dataset.\n",
    "* we changed the data type of 3 columns (['model_year'](), ['is_4wd'](), and ['date_posted']()) to the desired format.\n",
    "\n",
    "We carried out calculations to...\n",
    "1. extract the days of week, month and year vehicles were placed for ad, \n",
    "2. get the age of each vehicle,\n",
    "3. vehicles' average mileage per year,  \n",
    "\n",
    "stored the results in different columns and added them to our dataset.\n",
    "\n",
    "\n",
    "While studying some parameters (price, vehicle's age when the ad was placed, mileage, number of cylinders, and condition) by plotting histogram for each parameter, we dicovered that there are abnomalies in our dataset which made it difficult for us to carry out explanatory analysis. Due to this, we determined the upper limits of the outliers and filtered them out by creating a new dataframe. \n",
    "\n",
    "The new or filtered dataframe is reduced to 46511 rows (that is, 46511 vehicles). We continued our analysis using the filtered dataframe since we've gotten rid of the outliers. We were now able to see how the data was distributed. \n",
    "* Most of the vehicles posted for advertisement are quite cheap with price range from 0 to 10000. There are over 1000 vehicles with a price of 0, which is kind of weird.\n",
    "* Vehicles of age 5 are with the highest frequency.\n",
    "* There are over 700 vehicles with 0 mileage, meaning that these vehicles are new, and there are more vehicles with mileage between 10000 and 15000.\n",
    "* Vehicles with 6 cylinders have the highest frequency.\n",
    "* Most of the vehicles are in excellent and good condition with more than half of the whole vehicles falling in this category. We barely have new vehicles in our dataframe.\n",
    "\n",
    "The typical lifetime of an ad placed on our site is 33 days.\n",
    "\n",
    "Ads that lasted for just a day or less on our website are considered to have been removed quickly, and we discovered that less than 1% of them are in our filtered dataset. Also, ads that last for more than 170 days are considered to have abnormally spent long time on our site, and we discovered that less than 1% are in the filtered dataset.\n",
    "\n",
    "We also discovered that there some vehicles cost nothing, and most of the vehicles types posted on ads are SUV and sedan.\n",
    "\n",
    "We figured that, for the SUV type of vehicles, price depend on age and the condition of the vehicle. And also, for the sedan type of vehicle, price depend on age and the condition of the vehicle.\n",
    "\n",
    "We can therefore, conclude that the age and condition of vehicles have an impact in the price of the vehicle. \n",
    "\n",
    "[<a href=\"#Table-of-Contents\">Back to top</a>]"
   ]
  },
  {
   "cell_type": "markdown",
   "metadata": {},
   "source": [
    "### Project completion checklist\n",
    "\n",
    "Mark the completed tasks with 'x'. Then press Shift+Enter."
   ]
  },
  {
   "cell_type": "markdown",
   "metadata": {},
   "source": [
    "- [x]  file opened\n",
    "- [x]  files explored (first rows printed, info() method)\n",
    "- [x]  missing values determined\n",
    "- [x]  missing values filled in\n",
    "- [x]  clarification of the discovered missing values provided\n",
    "- [x]  data types converted\n",
    "- [x]  explanation of which columns had the data types changed and why\n",
    "- [x]  calculated and added to the table: day of the week, month, and year the ad was placed\n",
    "- [x]  calculated and added to the table: the vehicle's age (in years) when the ad was placed\n",
    "- [x]  calculated and added to the table: the vehicle's average mileage per year\n",
    "- [x]  the following parameters investigated: price, vehicle's age when the ad was placed, mileage, number of cylinders, and condition\n",
    "- [x]  histograms for each parameter created\n",
    "- [x]  task completed: \"Determine the upper limits of outliers, remove the outliers and store them in a separate DataFrame, and continue your work with the filtered data.\"\n",
    "- [x]  task completed: \"Use the filtered data to plot new histograms. Compare them with the earlier histograms (the ones that included outliers). Draw conclusions for each histogram.\"\n",
    "- [x]  task completed: \"Study how many days advertisements were displayed (days_listed). Plot a histogram. Calculate the mean and median. Describe the typical lifetime of an ad. Determine when ads were removed quickly, and when they were listed for an abnormally long time.  \"\n",
    "- [x]  task completed: \"Analyze the number of ads and the average price for each type of vehicle. Plot a graph showing the dependence of the number of ads on the vehicle type. Select the two types with the greatest number of ads. \"\n",
    "- [x]  task completed: \"What factors impact the price most? Take each of the popular types you detected at the previous stage and study whether the price depends on age, mileage, condition, transmission type, and color. For categorical variables (transmission type and color), plot box-and-whisker charts, and create scatterplots for the rest. When analyzing categorical variables, note that the categories must have at least 50 ads; otherwise, their parameters won't be valid for analysis.  \"\n",
    "- [x]  each stage has a conclusion\n",
    "- [x]  overall conclusion drawn"
   ]
  },
  {
   "cell_type": "code",
   "execution_count": null,
   "metadata": {},
   "outputs": [],
   "source": []
  }
 ],
 "metadata": {
  "kernelspec": {
   "display_name": "Python 3",
   "language": "python",
   "name": "python3"
  },
  "language_info": {
   "codemirror_mode": {
    "name": "ipython",
    "version": 3
   },
   "file_extension": ".py",
   "mimetype": "text/x-python",
   "name": "python",
   "nbconvert_exporter": "python",
   "pygments_lexer": "ipython3",
   "version": "3.7.6"
  },
  "toc": {
   "base_numbering": 1,
   "nav_menu": {},
   "number_sections": true,
   "sideBar": true,
   "skip_h1_title": false,
   "title_cell": "Table of Contents",
   "title_sidebar": "Contents",
   "toc_cell": false,
   "toc_position": {},
   "toc_section_display": true,
   "toc_window_display": false
  }
 },
 "nbformat": 4,
 "nbformat_minor": 2
}
